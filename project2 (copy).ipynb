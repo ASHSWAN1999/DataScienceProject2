{
 "cells": [
  {
   "cell_type": "markdown",
   "metadata": {},
   "source": [
    "# The Contribution of the Opioid Epidemic on the Falling Life Expectancy in the United States\n",
    "\n",
    "### Sabrina Pereira & Ashley Swanson\n",
    "\n",
    "[MIT License](https://en.wikipedia.org/wiki/MIT_License)"
   ]
  },
  {
   "cell_type": "code",
   "execution_count": 1,
   "metadata": {},
   "outputs": [],
   "source": [
    "%matplotlib inline\n",
    "\n",
    "import pandas as pd\n",
    "import numpy as np\n",
    "\n",
    "import matplotlib.pyplot as plt\n",
    "\n",
    "from scipy.stats import linregress\n",
    "\n",
    "import thinkstats2\n",
    "import thinkplot\n",
    "# from survival import SurvivalFunction"
   ]
  },
  {
   "cell_type": "markdown",
   "metadata": {},
   "source": [
    "## Loading Data"
   ]
  },
  {
   "cell_type": "markdown",
   "metadata": {},
   "source": [
    "### Life Expectancy Estimates\n",
    "\n",
    "To examine death rates and life expectancy at birth for the United States, we used the Centers for Disease Control and Prevention's (CDC) National Center for Health Statistics (NCHS) data (Available at: https://data.cdc.gov/NCHS/NCHS-Death-rates-and-life-expectancy-at-birth/w9j2-ggv5). \n",
    "\n",
    "Values for 2015-2017 have been published but are not included in the dataset, so we added them manually from the following sources:\n",
    "\n",
    "   Mortality in the United States, 2015 - https://www.cdc.gov/nchs/products/databriefs/db267.htm\n",
    "   \n",
    "   Mortality in the United States, 2016 - https://www.cdc.gov/nchs/products/databriefs/db293.htm\n",
    "   \n",
    "   Mortality in the United States, 2017 - https://www.cdc.gov/nchs/products/databriefs/db328.htm"
   ]
  },
  {
   "cell_type": "code",
   "execution_count": 19,
   "metadata": {},
   "outputs": [],
   "source": [
    "nchs = pd.read_csv('nchs.csv', sep=',')\n",
    "\n",
    "# Manually adding the nchs data to a data frame with the most recent data \n",
    "d = {'Year': [2017, 2016, 2015], 'Race': 3*['All Races'], 'Sex' : 3*['Both Sexes'], 'Average Life Expectancy (Years)':[78.6,78.7, 78.7], 'Age-adjusted Death Rate': [731.9, 728.8, 733.1]}\n",
    "df = pd.DataFrame(data=d)\n",
    "nchs = df.append(nchs.drop([0]), ignore_index=True)\n",
    "\n",
    "# Select NCHS data that aligns with mort data, describing all people in the US, from 1999-2017, and in year ascending order\n",
    "everyone = nchs[(nchs.Race == 'All Races') & (nchs.Sex == 'Both Sexes')]\n",
    "recent = everyone[everyone.Year > 1998][::-1].reset_index(drop=True)"
   ]
  },
  {
   "cell_type": "markdown",
   "metadata": {},
   "source": [
    "### Death Rates by Year & Age"
   ]
  },
  {
   "cell_type": "markdown",
   "metadata": {},
   "source": [
    "To calculate life expectancies, we examined the number of deaths and population sizes for each year and age group from 1999-2017. We drew data from the Multiple Cause of Death Data (Available at https://wonder.cdc.gov/). \n",
    "\n",
    "Terms of use: https://wonder.cdc.gov/mcd.html"
   ]
  },
  {
   "cell_type": "code",
   "execution_count": 20,
   "metadata": {},
   "outputs": [
    {
     "data": {
      "text/html": [
       "<div>\n",
       "<style scoped>\n",
       "    .dataframe tbody tr th:only-of-type {\n",
       "        vertical-align: middle;\n",
       "    }\n",
       "\n",
       "    .dataframe tbody tr th {\n",
       "        vertical-align: top;\n",
       "    }\n",
       "\n",
       "    .dataframe thead th {\n",
       "        text-align: right;\n",
       "    }\n",
       "</style>\n",
       "<table border=\"1\" class=\"dataframe\">\n",
       "  <thead>\n",
       "    <tr style=\"text-align: right;\">\n",
       "      <th></th>\n",
       "      <th>Notes</th>\n",
       "      <th>Year</th>\n",
       "      <th>Year Code</th>\n",
       "      <th>Single-Year Ages</th>\n",
       "      <th>Single-Year Ages Code</th>\n",
       "      <th>Deaths</th>\n",
       "      <th>Population</th>\n",
       "      <th>Crude Rate</th>\n",
       "    </tr>\n",
       "  </thead>\n",
       "  <tbody>\n",
       "    <tr>\n",
       "      <th>0</th>\n",
       "      <td>NaN</td>\n",
       "      <td>1999.0</td>\n",
       "      <td>1999.0</td>\n",
       "      <td>&lt; 1 year</td>\n",
       "      <td>0</td>\n",
       "      <td>27937.0</td>\n",
       "      <td>3795762</td>\n",
       "      <td>736.0</td>\n",
       "    </tr>\n",
       "    <tr>\n",
       "      <th>1</th>\n",
       "      <td>NaN</td>\n",
       "      <td>1999.0</td>\n",
       "      <td>1999.0</td>\n",
       "      <td>1 year</td>\n",
       "      <td>1</td>\n",
       "      <td>1989.0</td>\n",
       "      <td>3785088</td>\n",
       "      <td>52.5</td>\n",
       "    </tr>\n",
       "    <tr>\n",
       "      <th>2</th>\n",
       "      <td>NaN</td>\n",
       "      <td>1999.0</td>\n",
       "      <td>1999.0</td>\n",
       "      <td>2 years</td>\n",
       "      <td>2</td>\n",
       "      <td>1376.0</td>\n",
       "      <td>3782635</td>\n",
       "      <td>36.4</td>\n",
       "    </tr>\n",
       "    <tr>\n",
       "      <th>3</th>\n",
       "      <td>NaN</td>\n",
       "      <td>1999.0</td>\n",
       "      <td>1999.0</td>\n",
       "      <td>3 years</td>\n",
       "      <td>3</td>\n",
       "      <td>1046.0</td>\n",
       "      <td>3824806</td>\n",
       "      <td>27.3</td>\n",
       "    </tr>\n",
       "    <tr>\n",
       "      <th>4</th>\n",
       "      <td>NaN</td>\n",
       "      <td>1999.0</td>\n",
       "      <td>1999.0</td>\n",
       "      <td>4 years</td>\n",
       "      <td>4</td>\n",
       "      <td>838.0</td>\n",
       "      <td>3947253</td>\n",
       "      <td>21.2</td>\n",
       "    </tr>\n",
       "  </tbody>\n",
       "</table>\n",
       "</div>"
      ],
      "text/plain": [
       "   Notes    Year  Year Code Single-Year Ages Single-Year Ages Code   Deaths  \\\n",
       "0    NaN  1999.0     1999.0         < 1 year                     0  27937.0   \n",
       "1    NaN  1999.0     1999.0           1 year                     1   1989.0   \n",
       "2    NaN  1999.0     1999.0          2 years                     2   1376.0   \n",
       "3    NaN  1999.0     1999.0          3 years                     3   1046.0   \n",
       "4    NaN  1999.0     1999.0          4 years                     4    838.0   \n",
       "\n",
       "  Population Crude Rate  \n",
       "0    3795762      736.0  \n",
       "1    3785088       52.5  \n",
       "2    3782635       36.4  \n",
       "3    3824806       27.3  \n",
       "4    3947253       21.2  "
      ]
     },
     "execution_count": 20,
     "metadata": {},
     "output_type": "execute_result"
    }
   ],
   "source": [
    "# Load data\n",
    "sy_mort = pd.read_csv('Single Year Mortality Data, 1999-2017.txt', sep='\\t')\n",
    "\n",
    "# Extract total deaths\n",
    "sy_mort_totals = sy_mort[(sy_mort.Notes == 'Total') & (sy_mort.Year.notna())].reset_index(drop=True)\n",
    "\n",
    "# Clean data to only include rows with valid years\n",
    "sy_mort = sy_mort[(sy_mort.Year.notna()) & (sy_mort['Single-Year Ages Code'] != 'NS') & (sy_mort.Notes.isna())]\n",
    "sy_mort.replace('Not Applicable',np.nan, inplace=True)\n",
    "\n",
    "sy_mort.head()"
   ]
  },
  {
   "cell_type": "markdown",
   "metadata": {},
   "source": [
    "### Opioid-Related Deaths"
   ]
  },
  {
   "cell_type": "markdown",
   "metadata": {},
   "source": [
    "Similary, we examined deaths due to opioid overdose by age and year from 1999-2017 using this same dataset. \n",
    "\n",
    "We requested data using \"MCD - ICD-10 Codes,\" and we used the CDC's definition of the ICD-10 codes that related to \"All opioid poisoning\" (the chart containing the codes fitting this definition is available at https://www.cdc.gov/drugoverdose/pdf/pdo_guide_to_icd-9-cm_and_icd-10_codes-a.pdf )\n",
    "\n",
    "Terms of use: https://wonder.cdc.gov/mcd-icd10.html"
   ]
  },
  {
   "cell_type": "code",
   "execution_count": 22,
   "metadata": {},
   "outputs": [
    {
     "data": {
      "text/html": [
       "<div>\n",
       "<style scoped>\n",
       "    .dataframe tbody tr th:only-of-type {\n",
       "        vertical-align: middle;\n",
       "    }\n",
       "\n",
       "    .dataframe tbody tr th {\n",
       "        vertical-align: top;\n",
       "    }\n",
       "\n",
       "    .dataframe thead th {\n",
       "        text-align: right;\n",
       "    }\n",
       "</style>\n",
       "<table border=\"1\" class=\"dataframe\">\n",
       "  <thead>\n",
       "    <tr style=\"text-align: right;\">\n",
       "      <th></th>\n",
       "      <th>Notes</th>\n",
       "      <th>Year</th>\n",
       "      <th>Year Code</th>\n",
       "      <th>Single-Year Ages</th>\n",
       "      <th>Single-Year Ages Code</th>\n",
       "      <th>Deaths</th>\n",
       "      <th>Population</th>\n",
       "      <th>Crude Rate</th>\n",
       "    </tr>\n",
       "  </thead>\n",
       "  <tbody>\n",
       "    <tr>\n",
       "      <th>0</th>\n",
       "      <td>NaN</td>\n",
       "      <td>1999.0</td>\n",
       "      <td>1999.0</td>\n",
       "      <td>&lt; 1 year</td>\n",
       "      <td>0</td>\n",
       "      <td>20.0</td>\n",
       "      <td>3795762</td>\n",
       "      <td>0.5</td>\n",
       "    </tr>\n",
       "    <tr>\n",
       "      <th>1</th>\n",
       "      <td>NaN</td>\n",
       "      <td>1999.0</td>\n",
       "      <td>1999.0</td>\n",
       "      <td>1 year</td>\n",
       "      <td>1</td>\n",
       "      <td>12.0</td>\n",
       "      <td>3785088</td>\n",
       "      <td>Unreliable</td>\n",
       "    </tr>\n",
       "    <tr>\n",
       "      <th>2</th>\n",
       "      <td>NaN</td>\n",
       "      <td>1999.0</td>\n",
       "      <td>1999.0</td>\n",
       "      <td>2 years</td>\n",
       "      <td>2</td>\n",
       "      <td>5.0</td>\n",
       "      <td>3782635</td>\n",
       "      <td>Unreliable</td>\n",
       "    </tr>\n",
       "    <tr>\n",
       "      <th>3</th>\n",
       "      <td>NaN</td>\n",
       "      <td>1999.0</td>\n",
       "      <td>1999.0</td>\n",
       "      <td>3 years</td>\n",
       "      <td>3</td>\n",
       "      <td>4.0</td>\n",
       "      <td>3824806</td>\n",
       "      <td>Unreliable</td>\n",
       "    </tr>\n",
       "    <tr>\n",
       "      <th>4</th>\n",
       "      <td>NaN</td>\n",
       "      <td>1999.0</td>\n",
       "      <td>1999.0</td>\n",
       "      <td>4 years</td>\n",
       "      <td>4</td>\n",
       "      <td>4.0</td>\n",
       "      <td>3947253</td>\n",
       "      <td>Unreliable</td>\n",
       "    </tr>\n",
       "  </tbody>\n",
       "</table>\n",
       "</div>"
      ],
      "text/plain": [
       "   Notes    Year  Year Code Single-Year Ages Single-Year Ages Code  Deaths  \\\n",
       "0    NaN  1999.0     1999.0         < 1 year                     0    20.0   \n",
       "1    NaN  1999.0     1999.0           1 year                     1    12.0   \n",
       "2    NaN  1999.0     1999.0          2 years                     2     5.0   \n",
       "3    NaN  1999.0     1999.0          3 years                     3     4.0   \n",
       "4    NaN  1999.0     1999.0          4 years                     4     4.0   \n",
       "\n",
       "  Population  Crude Rate  \n",
       "0    3795762         0.5  \n",
       "1    3785088  Unreliable  \n",
       "2    3782635  Unreliable  \n",
       "3    3824806  Unreliable  \n",
       "4    3947253  Unreliable  "
      ]
     },
     "execution_count": 22,
     "metadata": {},
     "output_type": "execute_result"
    }
   ],
   "source": [
    "# Load data\n",
    "op_mort = pd.read_csv('Single Year Opioid Mortality Data, 1999-2017.txt', sep='\\t')\n",
    "\n",
    "# Extract total deaths\n",
    "op_mort_totals = op_mort[(op_mort.Notes == 'Total') & (op_mort.Year.notna())].reset_index(drop=True)\n",
    "\n",
    "# Clean data to only include rows with valid years\n",
    "op_mort = op_mort[(op_mort.Year.notna()) & (op_mort['Single-Year Ages Code'] != 'NS') & (op_mort.Notes.isna())]\n",
    "op_mort.replace('Not Applicable',np.nan, inplace=True)\n",
    "\n",
    "op_mort.head()"
   ]
  },
  {
   "cell_type": "markdown",
   "metadata": {},
   "source": [
    "### Deaths by Suicide "
   ]
  },
  {
   "cell_type": "markdown",
   "metadata": {},
   "source": [
    "We also analyzed suicede rates by age and year from 199-2017 using the Multiple Cause of Death Data. \n",
    "\n",
    "We requested the data using \"MCD - ICD-10 113 Cause List\" with the cause \"GR113-124 Intentional self-harm (suicide) (*U03,X60-X84,Y87.0)\"\n",
    "\n",
    "Terms of use: https://wonder.cdc.gov/mcd-icd10.html"
   ]
  },
  {
   "cell_type": "code",
   "execution_count": 23,
   "metadata": {},
   "outputs": [
    {
     "data": {
      "text/html": [
       "<div>\n",
       "<style scoped>\n",
       "    .dataframe tbody tr th:only-of-type {\n",
       "        vertical-align: middle;\n",
       "    }\n",
       "\n",
       "    .dataframe tbody tr th {\n",
       "        vertical-align: top;\n",
       "    }\n",
       "\n",
       "    .dataframe thead th {\n",
       "        text-align: right;\n",
       "    }\n",
       "</style>\n",
       "<table border=\"1\" class=\"dataframe\">\n",
       "  <thead>\n",
       "    <tr style=\"text-align: right;\">\n",
       "      <th></th>\n",
       "      <th>Notes</th>\n",
       "      <th>Year</th>\n",
       "      <th>Year Code</th>\n",
       "      <th>Single-Year Ages</th>\n",
       "      <th>Single-Year Ages Code</th>\n",
       "      <th>Deaths</th>\n",
       "      <th>Population</th>\n",
       "      <th>Crude Rate</th>\n",
       "    </tr>\n",
       "  </thead>\n",
       "  <tbody>\n",
       "    <tr>\n",
       "      <th>0</th>\n",
       "      <td>NaN</td>\n",
       "      <td>1999.0</td>\n",
       "      <td>1999.0</td>\n",
       "      <td>7 years</td>\n",
       "      <td>7</td>\n",
       "      <td>1.0</td>\n",
       "      <td>4163303</td>\n",
       "      <td>Unreliable</td>\n",
       "    </tr>\n",
       "    <tr>\n",
       "      <th>1</th>\n",
       "      <td>NaN</td>\n",
       "      <td>1999.0</td>\n",
       "      <td>1999.0</td>\n",
       "      <td>9 years</td>\n",
       "      <td>9</td>\n",
       "      <td>1.0</td>\n",
       "      <td>4230069</td>\n",
       "      <td>Unreliable</td>\n",
       "    </tr>\n",
       "    <tr>\n",
       "      <th>2</th>\n",
       "      <td>NaN</td>\n",
       "      <td>1999.0</td>\n",
       "      <td>1999.0</td>\n",
       "      <td>10 years</td>\n",
       "      <td>10</td>\n",
       "      <td>7.0</td>\n",
       "      <td>4148653</td>\n",
       "      <td>Unreliable</td>\n",
       "    </tr>\n",
       "    <tr>\n",
       "      <th>3</th>\n",
       "      <td>NaN</td>\n",
       "      <td>1999.0</td>\n",
       "      <td>1999.0</td>\n",
       "      <td>11 years</td>\n",
       "      <td>11</td>\n",
       "      <td>22.0</td>\n",
       "      <td>4036182</td>\n",
       "      <td>0.5</td>\n",
       "    </tr>\n",
       "    <tr>\n",
       "      <th>4</th>\n",
       "      <td>NaN</td>\n",
       "      <td>1999.0</td>\n",
       "      <td>1999.0</td>\n",
       "      <td>12 years</td>\n",
       "      <td>12</td>\n",
       "      <td>32.0</td>\n",
       "      <td>4009910</td>\n",
       "      <td>0.8</td>\n",
       "    </tr>\n",
       "  </tbody>\n",
       "</table>\n",
       "</div>"
      ],
      "text/plain": [
       "   Notes    Year  Year Code Single-Year Ages Single-Year Ages Code  Deaths  \\\n",
       "0    NaN  1999.0     1999.0          7 years                     7     1.0   \n",
       "1    NaN  1999.0     1999.0          9 years                     9     1.0   \n",
       "2    NaN  1999.0     1999.0         10 years                    10     7.0   \n",
       "3    NaN  1999.0     1999.0         11 years                    11    22.0   \n",
       "4    NaN  1999.0     1999.0         12 years                    12    32.0   \n",
       "\n",
       "  Population  Crude Rate  \n",
       "0    4163303  Unreliable  \n",
       "1    4230069  Unreliable  \n",
       "2    4148653  Unreliable  \n",
       "3    4036182         0.5  \n",
       "4    4009910         0.8  "
      ]
     },
     "execution_count": 23,
     "metadata": {},
     "output_type": "execute_result"
    }
   ],
   "source": [
    "# Load data\n",
    "su_mort = pd.read_csv('Single Year Suicide Mortality Data, 1999-2017.txt', sep='\\t')\n",
    "\n",
    "# Extract total deaths\n",
    "su_mort_totals = su_mort[(su_mort.Notes == 'Total') & (su_mort.Year.notna())].reset_index(drop=True)\n",
    "\n",
    "# Clean data to only include rows with valid years\n",
    "su_mort = su_mort[(su_mort.Year.notna()) & (su_mort['Single-Year Ages Code'] != 'NS') & (su_mort.Notes.isna())]\n",
    "su_mort.replace('Not Applicable',np.nan, inplace=True)\n",
    "\n",
    "su_mort.head()"
   ]
  },
  {
   "cell_type": "markdown",
   "metadata": {},
   "source": [
    "## **Introduction**"
   ]
  },
  {
   "cell_type": "markdown",
   "metadata": {},
   "source": [
    "In recent years, a downward trend in the Average Life Expectancy in the US has emerged. "
   ]
  },
  {
   "cell_type": "code",
   "execution_count": 6,
   "metadata": {},
   "outputs": [
    {
     "data": {
      "image/png": "[encoded data removed]",
      "text/plain": [
       "<Figure size 432x288 with 1 Axes>"
      ]
     },
     "metadata": {
      "needs_background": "light"
     },
     "output_type": "display_data"
    }
   ],
   "source": [
    "plt.plot(recent.Year, recent['Average Life Expectancy (Years)'])\n",
    "\n",
    "plt.xlabel('Year')\n",
    "plt.ylabel('Average Life Expectancy (Years)')\n",
    "plt.title('Life Expectancy in the US');\n"
   ]
  },
  {
   "cell_type": "code",
   "execution_count": 7,
   "metadata": {},
   "outputs": [
    {
     "data": {
      "text/plain": [
       "(5, 22)"
      ]
     },
     "execution_count": 7,
     "metadata": {},
     "output_type": "execute_result"
    },
    {
     "data": {
      "image/png": "[encoded data removed]",
      "text/plain": [
       "<Figure size 432x288 with 1 Axes>"
      ]
     },
     "metadata": {
      "needs_background": "light"
     },
     "output_type": "display_data"
    }
   ],
   "source": [
    "plt.plot(op_mort_totals.Year, op_mort_totals['Crude Rate'].astype('float64'))\n",
    "plt.xlabel('Year')\n",
    "plt.ylabel('Deaths by Suicide (Per 100,000 people)')\n",
    "plt.title('Deaths by Suicide in US Over Time');\n",
    "plt.ylim(5, 22)"
   ]
  },
  {
   "cell_type": "code",
   "execution_count": 8,
   "metadata": {},
   "outputs": [
    {
     "data": {
      "text/plain": [
       "(5, 22)"
      ]
     },
     "execution_count": 8,
     "metadata": {},
     "output_type": "execute_result"
    },
    {
     "data": {
      "image/png": "[encoded data removed]",
      "text/plain": [
       "<Figure size 432x288 with 1 Axes>"
      ]
     },
     "metadata": {
      "needs_background": "light"
     },
     "output_type": "display_data"
    }
   ],
   "source": [
    "plt.plot(su_mort_totals.Year, su_mort_totals['Crude Rate'].astype('float64'))\n",
    "plt.xlabel('Year')\n",
    "plt.ylabel('Deaths by Suicide (Per 100,000 people)')\n",
    "plt.title('Deaths by Suicide in US Over Time');\n",
    "plt.ylim(5, 22)"
   ]
  },
  {
   "cell_type": "code",
   "execution_count": 9,
   "metadata": {},
   "outputs": [],
   "source": [
    "def make_zero_var_scenario(df):\n",
    "\n",
    "    mod_df = sy_mort.copy(deep=True)\n",
    "\n",
    "    for year in range(1999,2018):\n",
    "\n",
    "        for age in range(0,101):\n",
    "            df_index = df[(df['Year'] == year) & (df['Single-Year Ages Code'].astype('int64')==age)].first_valid_index()\n",
    "\n",
    "            if df_index == None:\n",
    "                df_deaths = 0\n",
    "            else:\n",
    "                df_deaths = df.at[df_index, 'Deaths']\n",
    "\n",
    "            z_index = mod_df[(mod_df['Year'] == year) & (mod_df['Single-Year Ages Code'].astype('int64')==age)].first_valid_index()\n",
    "            mod_df.at[z_index, 'Deaths'] = mod_df.at[z_index, 'Deaths'] - df_deaths\n",
    "            \n",
    "    return mod_df"
   ]
  },
  {
   "cell_type": "markdown",
   "metadata": {},
   "source": [
    "Because the dataset does not contain population estimates for respondents 85 and older, we needed to estimate these values.\n",
    "\n",
    "To do this, we chose to look at the total population of 84-year-olds and subract the death count of 85-year-olds to estimate the population of 85-year-olds. However, if we contine to do this for the remaining ages, the final population is not zero because the changes to the 84-year-old population actually appeare in the 85-year old population in the following year.\n",
    "\n",
    "Accordingly, we looked at the 84-year-old population and divided it by the sum of deaths from age 85-100+ for that year. This gave us a scale factor that allowed us to spread this discrepancy out accross the data while retaining the proportional changes in population each year. "
   ]
  },
  {
   "cell_type": "code",
   "execution_count": 10,
   "metadata": {},
   "outputs": [],
   "source": [
    "def estimating_pop(df):\n",
    "    \n",
    "    for year in range(1999,2018):\n",
    "        #index at 84 years old for the given year\n",
    "        df_index = df[(df['Year'] == year) & (df['Single-Year Ages Code'].astype('int64')==84)].first_valid_index() \n",
    "        temp = df[(df['Year']==year) & (df['Single-Year Ages Code'].astype('int64')>=85)]\n",
    "\n",
    "\n",
    "        pop = int(df.at[df_index, 'Population'])\n",
    "\n",
    "        factor = pop/temp['Deaths'].sum()\n",
    "        df_index += 1\n",
    "\n",
    "        for age in range(85,101):\n",
    "            pop = pop - int(df.at[df_index, 'Deaths']*factor)\n",
    "            df.at[df_index, 'Population'] = pop\n",
    "            df_index += 1\n",
    "    "
   ]
  },
  {
   "cell_type": "code",
   "execution_count": 11,
   "metadata": {},
   "outputs": [],
   "source": [
    "def life_expect_df(df):\n",
    "\n",
    "    df['qx'] = df['Deaths']/(df['Population'].astype('float64')+.5*df['Deaths'])\n",
    "    df['lx'] = df['Single-Year Ages Code'][::].astype('float64')\n",
    "    df['lx'].replace(0,100000, inplace=True)\n",
    "\n",
    "    for year in range(1999,2018):\n",
    "        df_index = df[df.Year == year].first_valid_index()+1\n",
    "\n",
    "        for age in range(1,101):\n",
    "            df.at[df_index,'lx'] = df.at[(df_index-1),'lx'] *(1-df.at[df_index-1,'qx'])\n",
    "            df_index+=1\n",
    "\n",
    "    df['dx'] = df['lx']*df['qx']\n",
    "    df['Lx'] = df['lx'] - .5*df['dx']\n",
    "    df['Tx'] = 0.0\n",
    "    \n",
    "    for year in range(1999,2018):\n",
    "        df_index = df[df.Year == year].first_valid_index()\n",
    "\n",
    "        for age in range(0,101):\n",
    "            temp = df[(df.Year == year) & (df['Single-Year Ages Code'].astype('int64') >= age)]        \n",
    "            df.at[df_index,'Tx'] = temp['Lx'].sum()\n",
    "            df_index+=1\n",
    "\n",
    "    df['ex'] = df['Tx']/df['lx']\n",
    "    birth_le = df[df['Single-Year Ages Code'].astype('int64')==0] \n",
    "    \n",
    "    return birth_le\n"
   ]
  },
  {
   "cell_type": "code",
   "execution_count": 12,
   "metadata": {},
   "outputs": [],
   "source": [
    "estimating_pop(sy_mort)\n",
    "birth_le = life_expect_df(sy_mort)\n"
   ]
  },
  {
   "cell_type": "code",
   "execution_count": 13,
   "metadata": {},
   "outputs": [
    {
     "data": {
      "image/png": "[encoded data removed]",
      "text/plain": [
       "<Figure size 432x288 with 1 Axes>"
      ]
     },
     "metadata": {
      "needs_background": "light"
     },
     "output_type": "display_data"
    }
   ],
   "source": [
    "plt.plot(recent.Year, birth_le['ex'], label='Our ALE')\n",
    "plt.plot(recent.Year, recent['Average Life Expectancy (Years)'], label='Real ALE')\n",
    "\n",
    "plt.xlabel('Year')\n",
    "plt.ylabel('Average Life Expectancy (Years)')\n",
    "plt.title('True ALE Compared to ALE Expected from Model')\n",
    "plt.legend();"
   ]
  },
  {
   "cell_type": "code",
   "execution_count": 14,
   "metadata": {},
   "outputs": [],
   "source": [
    "zero_op_mort = make_zero_var_scenario(op_mort)\n",
    "estimating_pop(zero_op_mort)\n",
    "birth_le_mod = life_expect_df(zero_op_mort)"
   ]
  },
  {
   "cell_type": "code",
   "execution_count": 15,
   "metadata": {},
   "outputs": [
    {
     "data": {
      "image/png": "[encoded data removed]",
      "text/plain": [
       "<Figure size 432x288 with 1 Axes>"
      ]
     },
     "metadata": {
      "needs_background": "light"
     },
     "output_type": "display_data"
    }
   ],
   "source": [
    "plt.plot(recent.Year, birth_le['ex'], label='Our ALE')\n",
    "plt.plot(recent.Year, birth_le_mod['ex'], label='Our Zero-Opioid ALE')\n",
    "# plt.plot(recent.Year, recent['Average Life Expectancy (Years)'], label='Real ALE')\n",
    "\n",
    "plt.xlabel('Year')\n",
    "plt.ylabel('Average Life Expectancy (Years)')\n",
    "plt.title('True ALE Compared to ALE Expected from Model')\n",
    "plt.legend();"
   ]
  },
  {
   "cell_type": "code",
   "execution_count": 16,
   "metadata": {},
   "outputs": [],
   "source": [
    "zero_su_mort = make_zero_var_scenario(su_mort)\n",
    "estimating_pop(zero_su_mort)\n",
    "birth_le_mod = life_expect_df(zero_su_mort)"
   ]
  },
  {
   "cell_type": "code",
   "execution_count": 17,
   "metadata": {
    "scrolled": true
   },
   "outputs": [
    {
     "data": {
      "image/png": "[encoded data removed]",
      "text/plain": [
       "<Figure size 432x288 with 1 Axes>"
      ]
     },
     "metadata": {
      "needs_background": "light"
     },
     "output_type": "display_data"
    }
   ],
   "source": [
    "plt.plot(recent.Year, birth_le['ex'], label='Our ALE')\n",
    "plt.plot(recent.Year, birth_le_mod['ex'], label='Our Zero-Opioid ALE')\n",
    "# plt.plot(recent.Year, recent['Average Life Expectancy (Years)'], label='Real ALE')\n",
    "\n",
    "plt.xlabel('Year')\n",
    "plt.ylabel('Average Life Expectancy (Years)')\n",
    "plt.title('True ALE Compared to ALE Expected from Model')\n",
    "plt.legend();"
   ]
  },
  {
   "cell_type": "code",
   "execution_count": null,
   "metadata": {},
   "outputs": [],
   "source": []
  },
  {
   "cell_type": "markdown",
   "metadata": {},
   "source": [
    "At the same time, the number of deaths by opioid poisoning have risen dramatically. In 1999, there were 6.0 opioid poisoning related deaths for every 100,000 people - by 2017, this had risen to 21.6 deaths per 100,000. What is known as the \"Opioid Epidemic\" or \"Opioid Crisis\" was declared a Public Health Emergency by the Trump Administration's Health and Human Services in 2017."
   ]
  },
  {
   "cell_type": "code",
   "execution_count": 18,
   "metadata": {
    "scrolled": false
   },
   "outputs": [
    {
     "ename": "NameError",
     "evalue": "name 'opioid_totals' is not defined",
     "output_type": "error",
     "traceback": [
      "\u001b[0;31m---------------------------------------------------------------------------\u001b[0m",
      "\u001b[0;31mNameError\u001b[0m                                 Traceback (most recent call last)",
      "\u001b[0;32m<ipython-input-18-8a77534f7e05>\u001b[0m in \u001b[0;36m<module>\u001b[0;34m\u001b[0m\n\u001b[0;32m----> 1\u001b[0;31m \u001b[0mplt\u001b[0m\u001b[0;34m.\u001b[0m\u001b[0mplot\u001b[0m\u001b[0;34m(\u001b[0m\u001b[0mopioid_totals\u001b[0m\u001b[0;34m.\u001b[0m\u001b[0mYear\u001b[0m\u001b[0;34m,\u001b[0m \u001b[0mopioid_totals\u001b[0m\u001b[0;34m[\u001b[0m\u001b[0;34m'Crude Rate'\u001b[0m\u001b[0;34m]\u001b[0m\u001b[0;34m.\u001b[0m\u001b[0mastype\u001b[0m\u001b[0;34m(\u001b[0m\u001b[0;34m'float64'\u001b[0m\u001b[0;34m)\u001b[0m\u001b[0;34m)\u001b[0m\u001b[0;34m\u001b[0m\u001b[0;34m\u001b[0m\u001b[0m\n\u001b[0m\u001b[1;32m      2\u001b[0m \u001b[0mplt\u001b[0m\u001b[0;34m.\u001b[0m\u001b[0mxlabel\u001b[0m\u001b[0;34m(\u001b[0m\u001b[0;34m'Year'\u001b[0m\u001b[0;34m)\u001b[0m\u001b[0;34m\u001b[0m\u001b[0;34m\u001b[0m\u001b[0m\n\u001b[1;32m      3\u001b[0m \u001b[0mplt\u001b[0m\u001b[0;34m.\u001b[0m\u001b[0mylabel\u001b[0m\u001b[0;34m(\u001b[0m\u001b[0;34m'Opioid Related Deaths (Per 100,000 people)'\u001b[0m\u001b[0;34m)\u001b[0m\u001b[0;34m\u001b[0m\u001b[0;34m\u001b[0m\u001b[0m\n\u001b[1;32m      4\u001b[0m \u001b[0mplt\u001b[0m\u001b[0;34m.\u001b[0m\u001b[0mtitle\u001b[0m\u001b[0;34m(\u001b[0m\u001b[0;34m'Opioid Related Deaths in US over Time'\u001b[0m\u001b[0;34m)\u001b[0m\u001b[0;34m;\u001b[0m\u001b[0;34m\u001b[0m\u001b[0;34m\u001b[0m\u001b[0m\n",
      "\u001b[0;31mNameError\u001b[0m: name 'opioid_totals' is not defined"
     ]
    }
   ],
   "source": [
    "plt.plot(opioid_totals.Year, opioid_totals['Crude Rate'].astype('float64'))\n",
    "plt.xlabel('Year')\n",
    "plt.ylabel('Opioid Related Deaths (Per 100,000 people)')\n",
    "plt.title('Opioid Related Deaths in US over Time');"
   ]
  },
  {
   "cell_type": "markdown",
   "metadata": {},
   "source": [
    "Around 2015, at the same time we start noticing that the number of opioid overdose related deaths start dramatically increasing, the Average Life Expectancy starts to drop."
   ]
  },
  {
   "cell_type": "markdown",
   "metadata": {},
   "source": [
    "This prompted me to ask,\n",
    "\n",
    "_**What is the effect of the increased opioid-related deaths on the Average Life Expectancy in the US?**_"
   ]
  },
  {
   "cell_type": "markdown",
   "metadata": {},
   "source": [
    "## **Methodology**"
   ]
  },
  {
   "cell_type": "markdown",
   "metadata": {},
   "source": [
    "To answer this question, I will be attempting to predict what the Average Life Expectancy (ALE) in the US for various years would look like if there were no deaths related to opioid overdoses, and compare how much the actual ALEs differ from this theoretical, Zero-Opioid Scenario ALE."
   ]
  },
  {
   "cell_type": "markdown",
   "metadata": {},
   "source": [
    "### Data Sources"
   ]
  },
  {
   "cell_type": "markdown",
   "metadata": {},
   "source": [
    "I will be using the Centers for Disease Control and Prevention's (CDC) National Center for Health Statistics (NCHS) data for Death rates and life expectancy at birth for the US (Available at https://data.cdc.gov/NCHS/NCHS-Death-rates-and-life-expectancy-at-birth/w9j2-ggv5 ). All further mentions of life expectancies or ALE will relate to the CDC's definition of life expectancy at birth. The Average Life Expectancy is a summary statistic taking account the death rates of various age groups over various years, giving us a snapshot of the health of the population of the US at a point in time.\n",
    "\n",
    "I have included the life expectancies the CDC has released in recent years that were not included in the NCHS dataset. These can be found at the following links:\n",
    "\n",
    "Mortality in the United States, 2015: https://www.cdc.gov/nchs/products/databriefs/db267.htm\n",
    "\n",
    "Mortality in the United States, 2016: https://www.cdc.gov/nchs/products/databriefs/db293.htm\n",
    "\n",
    "Mortality in the United States, 2017: https://www.cdc.gov/nchs/products/databriefs/db328.htm"
   ]
  },
  {
   "cell_type": "markdown",
   "metadata": {},
   "source": [
    "I will also be using the CDC's Multiple Cause of Death Data for the years 1999-2017 (Available at https://wonder.cdc.gov/mcd.html ) to extract the population size and number of deaths in each age group in the US, as well as the total numbers of deaths due to opioid overdoses in each age group. \n",
    "\n",
    "To define deaths due to opioid overdoses, I used the CDC's definition of the ICD-10 codes that related to \"All opioid poisoning\" (the chart containing the codes fitting this definition is available at https://www.cdc.gov/drugoverdose/pdf/pdo_guide_to_icd-9-cm_and_icd-10_codes-a.pdf )"
   ]
  },
  {
   "cell_type": "markdown",
   "metadata": {},
   "source": [
    "In both datasets, populations were taken from the 2000 and 2010 Census data, and intercensal population estimates have been created for all other years."
   ]
  },
  {
   "cell_type": "markdown",
   "metadata": {},
   "source": [
    "### Data Description "
   ]
  },
  {
   "cell_type": "markdown",
   "metadata": {},
   "source": [
    "**NCHS Vitality Data**\n",
    "\n",
    "We are interested in looking at the ALE of the population as a whole for recent years, so we will take only the parts of the NCHS dataset that describe all people in the US from 1999-2017, also ensuring that this data is well aligned with the mortality data. This data is found in the `recent` DataFrame.\n",
    "\n",
    "This DataFrame also contains the year's Age-adjusted Death Rate (AADR). This is the death rate adjusted for changing age demographics so that death rates can be compared across years. They the Death Rates that you would expect to see if the population in a different year had the same age distribution as the Standard Population, the population you will be standardizing to. The NCHS uses the US 2000 Population for their Standard Population.\n",
    "\n",
    "**CDC Mortality Data**\n",
    "\n",
    "I have split the mortality data into two DataFrames, `mortality` and `mortality_totals`. The `mortality` DataFrame contains information about the total deaths in the US separated by age group and by year, and the population size of the age groups for each year. The `mortality_totals` DataFrame contains the total deaths in the year and the total US population in that year. \n",
    "\n",
    "Both of these DataFrames contain the corresponding Crude Death Rate (CDR) for that row, where CDR = Deaths ÷ Population.\n",
    "\n",
    "I have similarly treated the opioid-related deaths mortality data, separating it into `opioid` and `opioid_totals`. In the `opioid` DataFrame, there are cases where the Crude Rate is very small, so it is termed \"Unreliable\". I have replaced this crude rate with 0."
   ]
  },
  {
   "cell_type": "markdown",
   "metadata": {},
   "source": [
    "### Age-adjusted Death Rate Approach "
   ]
  },
  {
   "cell_type": "markdown",
   "metadata": {},
   "source": [
    "Recalculating the theoretical life expectancies by removing the effect of the opioid-related deaths to quantify how much of the drop in life expectancy is explained by the opioid-related deaths would be ideal, but it is a very complicated and involved calculation. \n",
    "\n",
    "Therefore, for simplifications, I will construct a model where I estimate the Average Life Expectancy for a year using the Age-adjusted Death Rate for the same year. The AADR for the total population is much more easily calculated, and the ALE and the AADR for any given year are closely related - both are summary statistics that are calculated with the age-specific death rates of the population.\n",
    "\n",
    "I will then be finding what the AADR for a year would look like in a Zero-Opioid Scenario (A theoretical scenario where any deaths related to opioid overdoses do not occur), and use the created model to estimate the theoretical ALE we would see without any opioid-related deaths."
   ]
  },
  {
   "cell_type": "markdown",
   "metadata": {},
   "source": [
    "Using the NCHS vitality statistics, I performed a linear regression to see how strong the correlation is between the two variables to check the goodness of fit for a linear function using a year's AADR to find the ALE. The coefficient of determination is .97, indicating that by knowing the AADR, we can get a good estimate of the ALE. We have an outlier in the year 2003, but it does not seem to to affect the fit of our model substantially. We will continue to use our model, keeping in mind that it has limitations."
   ]
  },
  {
   "cell_type": "code",
   "execution_count": null,
   "metadata": {},
   "outputs": [],
   "source": [
    "xs = recent['Age-adjusted Death Rate']\n",
    "ys = recent['Average Life Expectancy (Years)']\n",
    "\n",
    "res = linregress(xs, ys)\n",
    "\n",
    "fx = np.array([xs.min(), xs.max()])\n",
    "fy = res.intercept + res.slope * fx\n",
    "plt.plot(fx, fy, '-', alpha=0.5)\n",
    "\n",
    "\n",
    "plt.scatter(recent['Age-adjusted Death Rate'], recent['Average Life Expectancy (Years)']);\n",
    "plt.xlabel('Age-adjusted Death Rate')\n",
    "plt.ylabel('Average Life Expectancy (Years)')\n",
    "plt.title('Average Life Expectancy Vs. Age-adjusted Death Rate')\n",
    "\n",
    "print('R^2 =',res.rvalue**2)"
   ]
  },
  {
   "cell_type": "markdown",
   "metadata": {},
   "source": [
    "It's important to distinguish the Age-Adjusted Death Rate from the Crude Death Rate. As shown in the graph below, the CDRs in the CDC mortality data differ much from the AADRs provided in the NCHS dataset. "
   ]
  },
  {
   "cell_type": "code",
   "execution_count": null,
   "metadata": {},
   "outputs": [],
   "source": [
    "plt.plot(mortality_totals.Year, mortality_totals['Crude Rate'].astype('float64'), label='Crude Death Rate')\n",
    "plt.plot(recent.Year, recent['Age-adjusted Death Rate'], label='Age-adjusted Rate');\n",
    "\n",
    "plt.xlabel('Year')\n",
    "plt.ylabel('Death Rate (Per 100,000 people)')\n",
    "plt.title('Comparing CDR and AADR')\n",
    "plt.legend();"
   ]
  },
  {
   "cell_type": "markdown",
   "metadata": {},
   "source": [
    "Since we have the data for the total population and number of deaths for each year in the `mortality` and `mortality_totals` DataFrames, and the information for opioid-related deaths in the `opioid` and `opioid_totals` DataFrames, I can create two new DataFrames from which I will be able to calculate the theoretical AADR for the Zero-Opioid Scenario."
   ]
  },
  {
   "cell_type": "markdown",
   "metadata": {},
   "source": [
    "However, first I need to calculate the AADR for the mortality data I have to ensure it is as valid as the NCHS's AADRs to create a function for finding the ALE."
   ]
  },
  {
   "cell_type": "markdown",
   "metadata": {},
   "source": [
    "### Age-adjusted Death Rate Calculation"
   ]
  },
  {
   "cell_type": "markdown",
   "metadata": {},
   "source": [
    "To calculate the AADRs with our data, we need to identify a \"Standard Population\" with which to adjust the CDRs. Since the NCHS uses the year 2000 for the Standard Population for their AADRs, it's what I will be using."
   ]
  },
  {
   "cell_type": "markdown",
   "metadata": {},
   "source": [
    "Below is a function I will be using to find the Standard Proportion for a given age group. The Standard Proportion for an age group is the proportion of the population that were in that age group in the Standard Population's distribution. I will be using it to add a column for the Standard Proportion to the `mortality` DataFrame in order to use the column to later find the Age-Adjusted Death Rates."
   ]
  },
  {
   "cell_type": "code",
   "execution_count": null,
   "metadata": {},
   "outputs": [],
   "source": [
    "def age_group_pop_prop(row, year, df, df_totals):\n",
    "    \"\"\"    \n",
    "    Takes in a row from a DataFrame, the desired year for the Standard Population,\n",
    "    the DataFrame you would like to pull the total Standard Population from, and the \n",
    "    DataFrame that contains the Standard Population's proportions of deaths divided by \n",
    "    Ten-Year Age Groups Codes.\n",
    "    \n",
    "    Reads the Ten-Year Age Groups Code from the row, and returns the correct Standard Proportion.\n",
    "    \n",
    "    \"\"\"  \n",
    "    adjustment_mapping = {}\n",
    "    standard_pop = float(df_totals[(df_totals.Year == year)].Population)\n",
    "\n",
    "    for i, rows in df[df.Year == year].iterrows():\n",
    "        adjustment_mapping[rows['Ten-Year Age Groups Code']] = float(rows['Population'])/standard_pop\n",
    "    return adjustment_mapping.get(row['Ten-Year Age Groups Code'])\n",
    "\n",
    "# Create Standard Proportion Column\n",
    "mortality['Standard Proportion'] =  mortality.apply(lambda row: age_group_pop_prop(row, 2000, mortality, mortality_totals), axis=1)"
   ]
  },
  {
   "cell_type": "markdown",
   "metadata": {},
   "source": [
    "I will be using the formula for Age-Adjusted Death Rate provided by the Missouri Department of Health and Senior Services (https://health.mo.gov/data/mica/CDP_MICA/AARate.html ), \n",
    "\n",
    "AADR = Summation of (ASDR X standard proportion) \n",
    "  \n",
    "Where ASDR (Age-Specific Death Rate) = deaths in age group ÷ estimated population of that age group × 100,000, equivalent to the information held in the `Crude Rate` columns in the `mortality` DataFrame.\n",
    "\n",
    "I will multiply the `Crude Rate` and the `Standard Proportion` columns in order to find the amount of each Crude Rate to sum for the year's Age-Adjusted Death Rate."
   ]
  },
  {
   "cell_type": "code",
   "execution_count": null,
   "metadata": {},
   "outputs": [],
   "source": [
    "mortality['CR*SP'] =  mortality['Crude Rate'].astype('float64')*mortality['Standard Proportion']"
   ]
  },
  {
   "cell_type": "markdown",
   "metadata": {},
   "source": [
    "I will now add sum the values for each year's Age-Adjusted Death Rate, and add it as a column to `mortality_totals`. "
   ]
  },
  {
   "cell_type": "code",
   "execution_count": null,
   "metadata": {},
   "outputs": [],
   "source": [
    "def calculate_AADR(row, df):\n",
    "    \"\"\"\n",
    "    Takes in an input row from a DataFrame of totals.\n",
    "    Returns the Age-Adjusted Death Rate.\n",
    "    \"\"\"\n",
    "    year = row.Year\n",
    "    AADR = df[df.Year == year]['CR*SP'].sum()\n",
    "    \n",
    "    return AADR\n",
    "    \n",
    "# Create AADR Column      \n",
    "mortality_totals['Age-adjusted Death Rate'] = mortality_totals.apply(lambda row: calculate_AADR(row, mortality), axis=1)    "
   ]
  },
  {
   "cell_type": "markdown",
   "metadata": {},
   "source": [
    "My calculated Age Adjusted Death Rates closely match the trend of those in the NCHS dataset, but are offset by about 20 people per 100,000. Although I am unsure as to why the difference exists (I speculate it may be due to slight differences in the population estimates or calculation), since the trend of both lines is almost identical, so this shift in the intercept will not greatly affect the linear regression calculation."
   ]
  },
  {
   "cell_type": "code",
   "execution_count": null,
   "metadata": {},
   "outputs": [],
   "source": [
    "plt.plot(mortality_totals.Year, mortality_totals['Age-adjusted Death Rate'], label = 'Calculated AADR')\n",
    "plt.plot(recent.Year, recent['Age-adjusted Death Rate'], label = 'NCHS AADR');\n",
    "\n",
    "plt.xlabel('Year')\n",
    "plt.ylabel('Age-Adjusted Death Rate (Per 100,000 people)');\n",
    "plt.title('NCHS ADDR Compared to the Calculated AADR')\n",
    "plt.legend();"
   ]
  },
  {
   "cell_type": "markdown",
   "metadata": {},
   "source": [
    "I again performed a linear regression plotting ALE vs. AADR, this time using my AADR calculations to ensure they are as valid as the NCHS's AADRs to create a function that will estimate the Average Life Expectancy. \n",
    "\n",
    "The coefficient of determination is again .97. This validates that I can achieve a very close estimation of what the ALE would look like if I use a recalculated AADR."
   ]
  },
  {
   "cell_type": "code",
   "execution_count": null,
   "metadata": {},
   "outputs": [],
   "source": [
    "xs = mortality_totals['Age-adjusted Death Rate']\n",
    "ys = recent['Average Life Expectancy (Years)']\n",
    "\n",
    "res = linregress(xs, ys)\n",
    "\n",
    "fx = np.array([xs.min(), xs.max()])\n",
    "fy = res.intercept + res.slope * fx\n",
    "plt.plot(fx, fy, '-', alpha=0.5)\n",
    "\n",
    "\n",
    "\n",
    "plt.scatter(mortality_totals['Age-adjusted Death Rate'], recent['Average Life Expectancy (Years)']);\n",
    "plt.xlabel('Age-adjusted Death Rate')\n",
    "plt.ylabel('Average Life Expectancy (Years)')\n",
    "plt.title('Average Life Expectancy Vs. Calculated AADR')\n",
    "print('R^2 =',res.rvalue**2)"
   ]
  },
  {
   "cell_type": "markdown",
   "metadata": {},
   "source": [
    "### Age-adjusted Death Rate Calculation for Zero-Opioid Scenario "
   ]
  },
  {
   "cell_type": "markdown",
   "metadata": {},
   "source": [
    "To find the AADRs for the Zero-Opioid Scenario, I will add back the deaths counted in the `opioid` DataFrame to the `mortality` deaths in a new DataFrame, and use same calculations as before. Then we will be able to convert this information into theoretical ALEs."
   ]
  },
  {
   "cell_type": "markdown",
   "metadata": {},
   "source": [
    "I will make a copy of `mortality` and `mortality_totals`, and alter them to not include the deaths related to opioid overdoses to create `mortality_zero_opioid` and `mortality_zero_opioid_totals`."
   ]
  },
  {
   "cell_type": "code",
   "execution_count": null,
   "metadata": {},
   "outputs": [],
   "source": [
    "mortality_zero_opioid = mortality.copy().drop(['Standard Proportion','CR*SP'], axis=1)\n",
    "mortality_zero_opioid_totals = mortality_totals.copy().drop(['Age-adjusted Death Rate'], axis=1)\n",
    "\n",
    "#Remove the deaths related to opioid overdoses\n",
    "mortality_zero_opioid.Deaths = mortality_zero_opioid.Deaths - opioid.Deaths\n",
    "mortality_zero_opioid_totals.Deaths = mortality_zero_opioid_totals.Deaths - opioid_totals.Deaths\n",
    "\n",
    "\n",
    "#Remove the deaths contributing to the crude rate\n",
    "mortality_zero_opioid['Crude Rate'] = mortality_zero_opioid['Crude Rate'].astype('Float64')-opioid['Crude Rate'].astype('Float64')\n",
    "mortality_zero_opioid_totals['Crude Rate'] = mortality_zero_opioid_totals['Crude Rate'].astype('Float64')-opioid_totals['Crude Rate'].astype('Float64')\n",
    "\n"
   ]
  },
  {
   "cell_type": "markdown",
   "metadata": {},
   "source": [
    "We will perform the same process as before to find the new Age-adjusted Death Rates."
   ]
  },
  {
   "cell_type": "code",
   "execution_count": null,
   "metadata": {},
   "outputs": [],
   "source": [
    "#Creating Standard Proportion Column and the (Crude Rate * Standard Prop) column\n",
    "mortality_zero_opioid['Standard Proportion'] =  mortality_zero_opioid.apply(lambda row: age_group_pop_prop(row, 2000, mortality_zero_opioid, mortality_zero_opioid_totals), axis=1)\n",
    "mortality_zero_opioid['CR*SP'] =  mortality_zero_opioid['Crude Rate'].astype('float64')*mortality_zero_opioid['Standard Proportion']\n",
    "\n",
    "#Finding the AADRs for the adjusted dataset\n",
    "mortality_zero_opioid_totals['Age-adjusted Death Rate'] = mortality_zero_opioid_totals.apply(lambda row: calculate_AADR(row, mortality_zero_opioid), axis=1)    "
   ]
  },
  {
   "cell_type": "markdown",
   "metadata": {},
   "source": [
    "### Average Life Expectancy Calculations and Validation"
   ]
  },
  {
   "cell_type": "markdown",
   "metadata": {},
   "source": [
    "I will now transfer this information into terms of life expectancies. I will use the linear regression model I created to fit the data to estimate life expectancy using the true calculated AADRs and the Zero-Opioid Scenario AADRs."
   ]
  },
  {
   "cell_type": "code",
   "execution_count": null,
   "metadata": {},
   "outputs": [],
   "source": [
    "life_expect = recent[['Year','Average Life Expectancy (Years)']].join(mortality_totals['Age-adjusted Death Rate']).join(mortality_zero_opioid_totals['Age-adjusted Death Rate'], rsuffix=' -Opioid')\n",
    "\n",
    "#Column with the model life expectancy\n",
    "life_expect['ALE Expected by AADR'] = life_expect['Age-adjusted Death Rate']*res.slope + res.intercept\n",
    "\n",
    "#Column with the difference between the true ALE and my calculated ALE\n",
    "life_expect['Residuals'] = life_expect['Average Life Expectancy (Years)'] - life_expect['ALE Expected by AADR']\n",
    "\n",
    "#Column with the life expectancy we would expect to see if there were no opioid-related deaths\n",
    "life_expect['ALE Expected by Zero-Opioid AADR'] = life_expect['Age-adjusted Death Rate -Opioid']*res.slope + res.intercept\n",
    "\n",
    "#Column with the theoretical loss in ALE from theoretical zero-opioid scenario\n",
    "life_expect['Theoretical Loss in ALE'] = life_expect['Average Life Expectancy (Years)'] - life_expect['ALE Expected by Zero-Opioid AADR']"
   ]
  },
  {
   "cell_type": "markdown",
   "metadata": {},
   "source": [
    "Graphed below are both the ALEs reported by the NCHS and the ones calculated using my regression model. This graph is another validation of my model, as it traces the true ALE very closely.\n",
    "\n",
    "Excluding the year 2003, my function for finding the Average Life Expectancy from the AADR produces a result accurate to within .15 years of the true ALE, so it is a decently good estimator of the life expectancy we would expect to see if there were no contributing opioid-related deaths. "
   ]
  },
  {
   "cell_type": "code",
   "execution_count": null,
   "metadata": {},
   "outputs": [],
   "source": [
    "plt.plot(life_expect.Year, life_expect['Average Life Expectancy (Years)'], label='NCHS True ALE')\n",
    "plt.plot(life_expect.Year, life_expect['ALE Expected by AADR'], label='ALE Expected by AADR')\n",
    "\n",
    "plt.xlabel('Year')\n",
    "plt.ylabel('Average Life Expectancy (Years)')\n",
    "plt.title('True ALE Compared to ALE Expected from Model')\n",
    "plt.legend();"
   ]
  },
  {
   "cell_type": "markdown",
   "metadata": {},
   "source": [
    "## **Results**"
   ]
  },
  {
   "cell_type": "markdown",
   "metadata": {},
   "source": [
    "Below is the same graph produced above, overlaid with the Zero-Opioid Scenario ALE. In the earlier years, the ALE for a Zero-Opioid Scenario differs very little from the actual ALE. However, in the most recent years, the gap between the two is wider than it has ever been. "
   ]
  },
  {
   "cell_type": "code",
   "execution_count": null,
   "metadata": {},
   "outputs": [],
   "source": [
    "plt.plot(life_expect.Year, life_expect['Average Life Expectancy (Years)'], label='NCHS True ALE')\n",
    "plt.plot(life_expect.Year, life_expect['ALE Expected by AADR'], label='ALE Expected by AADR')\n",
    "plt.plot(life_expect.Year, life_expect['ALE Expected by Zero-Opioid AADR'], label='ALE Expected by Zero-Opioid AADR', color='green')\n",
    "\n",
    "plt.xlabel('Year')\n",
    "plt.ylabel('Average Life Expectancy (Years)')\n",
    "plt.title('Overlay of True ALE and Calculated ALE\\'s')\n",
    "plt.legend();"
   ]
  },
  {
   "cell_type": "markdown",
   "metadata": {},
   "source": [
    "In the graph, we can see in the year 2003 the ALE we would expect to see if there had been no opioid-related deaths according to our model is lower than the actual ALE, which is a senseless result. The linear regression that created the model had an outlier in the year 2003, so it explains why our model does not work well in this result."
   ]
  },
  {
   "cell_type": "markdown",
   "metadata": {},
   "source": [
    "## **Conclusion**"
   ]
  },
  {
   "cell_type": "markdown",
   "metadata": {},
   "source": [
    "So, _**what is the effect of the increased opioid-related deaths on the Average Life Expectancy in the US?**_"
   ]
  },
  {
   "cell_type": "markdown",
   "metadata": {},
   "source": [
    "According to the model, I would expect that the ALE in 2017 would have been about .46 years higher if there had been no opioid-related deaths (79.06 years, compared to the observed 78.6 years). Similarly, in 2016 the ALE would have been .37 years higher in a Zero-Opioid Scenario (79.07 years compared to the observed 78.7).\n",
    "\n",
    "It is only recently that these deaths have created an observable effect this large. In 1999, the difference between the Zero-Opioid ALE and the observed ALE was .16 years (76.86 years compared to the actual 76.7).\n",
    "\n",
    "The Average Life Expectancy is a very robust summary statistic that takes information about the overall health of a country to produce one number. The increased number of opioid overdoses taking lives prematurely has more than ever negatively impacted the years of life a newborn would be expected to live.\n"
   ]
  }
 ],
 "metadata": {
  "kernelspec": {
   "display_name": "Python 3",
   "language": "python",
   "name": "python3"
  },
  "language_info": {
   "codemirror_mode": {
    "name": "ipython",
    "version": 3
   },
   "file_extension": ".py",
   "mimetype": "text/x-python",
   "name": "python",
   "nbconvert_exporter": "python",
   "pygments_lexer": "ipython3",
   "version": "3.6.8"
  }
 },
 "nbformat": 4,
 "nbformat_minor": 2
}
