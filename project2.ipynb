{
 "cells": [
  {
   "cell_type": "markdown",
   "metadata": {},
   "source": [
    "# Contributing Factors to the Falling Life Expectancy in the US\n",
    "\n",
    "### Sabrina Pereira & Ashley Swanson\n",
    "\n",
    "[MIT License](https://en.wikipedia.org/wiki/MIT_License)"
   ]
  },
  {
   "cell_type": "code",
   "execution_count": 1,
   "metadata": {},
   "outputs": [],
   "source": [
    "%matplotlib inline\n",
    "\n",
    "import pandas as pd\n",
    "import numpy as np\n",
    "\n",
    "import matplotlib.pyplot as plt\n",
    "\n",
    "from scipy.stats import linregress\n",
    "import statsmodels.formula.api as smf\n",
    "\n",
    "from thinkstats2 import Cdf\n",
    "import thinkplot\n",
    "# from survival import SurvivalFunction"
   ]
  },
  {
   "cell_type": "markdown",
   "metadata": {},
   "source": [
    "## Loading Data"
   ]
  },
  {
   "cell_type": "markdown",
   "metadata": {},
   "source": [
    "### Life Expectancy Estimates\n",
    "\n",
    "To examine death rates and life expectancy at birth for the United States, we used the Centers for Disease Control and Prevention's (CDC) National Center for Health Statistics (NCHS) data (Available at: https://data.cdc.gov/NCHS/NCHS-Death-rates-and-life-expectancy-at-birth/w9j2-ggv5). \n",
    "\n",
    "Values for 2015-2017 have been published but are not included in the dataset, so we added them manually from the following sources:\n",
    "\n",
    "   Mortality in the United States, 2015 - https://www.cdc.gov/nchs/products/databriefs/db267.htm\n",
    "   \n",
    "   Mortality in the United States, 2016 - https://www.cdc.gov/nchs/products/databriefs/db293.htm\n",
    "   \n",
    "   Mortality in the United States, 2017 - https://www.cdc.gov/nchs/products/databriefs/db328.htm"
   ]
  },
  {
   "cell_type": "code",
   "execution_count": 2,
   "metadata": {},
   "outputs": [],
   "source": [
    "nchs = pd.read_csv('nchs.csv', sep=',')\n",
    "\n",
    "# Manually adding the nchs data to a data frame with the most recent data \n",
    "d = {'Year': [2017, 2016, 2015], 'Race': 3*['All Races'], 'Sex' : 3*['Both Sexes'], 'Average Life Expectancy (Years)':[78.6,78.7, 78.7], 'Age-adjusted Death Rate': [731.9, 728.8, 733.1]}\n",
    "df = pd.DataFrame(data=d)\n",
    "nchs = df.append(nchs.drop([0]), ignore_index=True)\n",
    "\n",
    "# Select NCHS data that describes all people in the US, from 1999-2017, and in year ascending order\n",
    "everyone = nchs[(nchs.Race == 'All Races') & (nchs.Sex == 'Both Sexes')]\n",
    "recent = everyone[everyone.Year > 1998][::-1].reset_index(drop=True)"
   ]
  },
  {
   "cell_type": "markdown",
   "metadata": {},
   "source": [
    "### Death Rates by Year & Age"
   ]
  },
  {
   "cell_type": "markdown",
   "metadata": {},
   "source": [
    "To calculate life expectancies, we examined the number of deaths and population sizes for each year and age group from 1999-2017. We drew data from the Multiple Cause of Death Data (Available at https://wonder.cdc.gov/). \n",
    "\n",
    "Terms of use: https://wonder.cdc.gov/mcd.html"
   ]
  },
  {
   "cell_type": "code",
   "execution_count": 3,
   "metadata": {},
   "outputs": [
    {
     "data": {
      "text/html": [
       "<div>\n",
       "<style scoped>\n",
       "    .dataframe tbody tr th:only-of-type {\n",
       "        vertical-align: middle;\n",
       "    }\n",
       "\n",
       "    .dataframe tbody tr th {\n",
       "        vertical-align: top;\n",
       "    }\n",
       "\n",
       "    .dataframe thead th {\n",
       "        text-align: right;\n",
       "    }\n",
       "</style>\n",
       "<table border=\"1\" class=\"dataframe\">\n",
       "  <thead>\n",
       "    <tr style=\"text-align: right;\">\n",
       "      <th></th>\n",
       "      <th>Notes</th>\n",
       "      <th>Year</th>\n",
       "      <th>Year Code</th>\n",
       "      <th>Single-Year Ages</th>\n",
       "      <th>Single-Year Ages Code</th>\n",
       "      <th>Deaths</th>\n",
       "      <th>Population</th>\n",
       "      <th>Crude Rate</th>\n",
       "    </tr>\n",
       "  </thead>\n",
       "  <tbody>\n",
       "    <tr>\n",
       "      <th>0</th>\n",
       "      <td>NaN</td>\n",
       "      <td>1999.0</td>\n",
       "      <td>1999.0</td>\n",
       "      <td>&lt; 1 year</td>\n",
       "      <td>0</td>\n",
       "      <td>27937.0</td>\n",
       "      <td>3795762</td>\n",
       "      <td>736.0</td>\n",
       "    </tr>\n",
       "    <tr>\n",
       "      <th>1</th>\n",
       "      <td>NaN</td>\n",
       "      <td>1999.0</td>\n",
       "      <td>1999.0</td>\n",
       "      <td>1 year</td>\n",
       "      <td>1</td>\n",
       "      <td>1989.0</td>\n",
       "      <td>3785088</td>\n",
       "      <td>52.5</td>\n",
       "    </tr>\n",
       "    <tr>\n",
       "      <th>2</th>\n",
       "      <td>NaN</td>\n",
       "      <td>1999.0</td>\n",
       "      <td>1999.0</td>\n",
       "      <td>2 years</td>\n",
       "      <td>2</td>\n",
       "      <td>1376.0</td>\n",
       "      <td>3782635</td>\n",
       "      <td>36.4</td>\n",
       "    </tr>\n",
       "    <tr>\n",
       "      <th>3</th>\n",
       "      <td>NaN</td>\n",
       "      <td>1999.0</td>\n",
       "      <td>1999.0</td>\n",
       "      <td>3 years</td>\n",
       "      <td>3</td>\n",
       "      <td>1046.0</td>\n",
       "      <td>3824806</td>\n",
       "      <td>27.3</td>\n",
       "    </tr>\n",
       "    <tr>\n",
       "      <th>4</th>\n",
       "      <td>NaN</td>\n",
       "      <td>1999.0</td>\n",
       "      <td>1999.0</td>\n",
       "      <td>4 years</td>\n",
       "      <td>4</td>\n",
       "      <td>838.0</td>\n",
       "      <td>3947253</td>\n",
       "      <td>21.2</td>\n",
       "    </tr>\n",
       "  </tbody>\n",
       "</table>\n",
       "</div>"
      ],
      "text/plain": [
       "   Notes    Year  Year Code Single-Year Ages Single-Year Ages Code   Deaths  \\\n",
       "0    NaN  1999.0     1999.0         < 1 year                     0  27937.0   \n",
       "1    NaN  1999.0     1999.0           1 year                     1   1989.0   \n",
       "2    NaN  1999.0     1999.0          2 years                     2   1376.0   \n",
       "3    NaN  1999.0     1999.0          3 years                     3   1046.0   \n",
       "4    NaN  1999.0     1999.0          4 years                     4    838.0   \n",
       "\n",
       "  Population Crude Rate  \n",
       "0    3795762      736.0  \n",
       "1    3785088       52.5  \n",
       "2    3782635       36.4  \n",
       "3    3824806       27.3  \n",
       "4    3947253       21.2  "
      ]
     },
     "execution_count": 3,
     "metadata": {},
     "output_type": "execute_result"
    }
   ],
   "source": [
    "# Load data\n",
    "sy_mort = pd.read_csv('Single Year Mortality Data, 1999-2017.txt', sep='\\t')\n",
    "\n",
    "# Extract total deaths\n",
    "sy_mort_totals = sy_mort[(sy_mort.Notes == 'Total') & (sy_mort.Year.notna())].reset_index(drop=True)\n",
    "\n",
    "# Clean data to only include rows with valid years\n",
    "sy_mort = sy_mort[(sy_mort.Year.notna()) & (sy_mort['Single-Year Ages Code'] != 'NS') & (sy_mort.Notes.isna())]\n",
    "sy_mort.replace('Not Applicable',np.nan, inplace=True)\n",
    "\n",
    "sy_mort.head()"
   ]
  },
  {
   "cell_type": "markdown",
   "metadata": {},
   "source": [
    "### Opioid-Related Deaths"
   ]
  },
  {
   "cell_type": "markdown",
   "metadata": {},
   "source": [
    "Similary, we examined deaths due to opioid overdose by age and year from 1999-2017 using this same dataset. \n",
    "\n",
    "We requested data using \"MCD - ICD-10 Codes,\" and we used the CDC's definition of the ICD-10 codes that related to \"All opioid poisoning\" (the chart containing the codes fitting this definition is available at https://www.cdc.gov/drugoverdose/pdf/pdo_guide_to_icd-9-cm_and_icd-10_codes-a.pdf )\n",
    "\n",
    "Terms of use: https://wonder.cdc.gov/mcd-icd10.html"
   ]
  },
  {
   "cell_type": "code",
   "execution_count": 4,
   "metadata": {},
   "outputs": [
    {
     "data": {
      "text/html": [
       "<div>\n",
       "<style scoped>\n",
       "    .dataframe tbody tr th:only-of-type {\n",
       "        vertical-align: middle;\n",
       "    }\n",
       "\n",
       "    .dataframe tbody tr th {\n",
       "        vertical-align: top;\n",
       "    }\n",
       "\n",
       "    .dataframe thead th {\n",
       "        text-align: right;\n",
       "    }\n",
       "</style>\n",
       "<table border=\"1\" class=\"dataframe\">\n",
       "  <thead>\n",
       "    <tr style=\"text-align: right;\">\n",
       "      <th></th>\n",
       "      <th>Notes</th>\n",
       "      <th>Year</th>\n",
       "      <th>Year Code</th>\n",
       "      <th>Single-Year Ages</th>\n",
       "      <th>Single-Year Ages Code</th>\n",
       "      <th>Deaths</th>\n",
       "      <th>Population</th>\n",
       "      <th>Crude Rate</th>\n",
       "    </tr>\n",
       "  </thead>\n",
       "  <tbody>\n",
       "    <tr>\n",
       "      <th>0</th>\n",
       "      <td>NaN</td>\n",
       "      <td>1999.0</td>\n",
       "      <td>1999.0</td>\n",
       "      <td>&lt; 1 year</td>\n",
       "      <td>0</td>\n",
       "      <td>20.0</td>\n",
       "      <td>3795762</td>\n",
       "      <td>0.5</td>\n",
       "    </tr>\n",
       "    <tr>\n",
       "      <th>1</th>\n",
       "      <td>NaN</td>\n",
       "      <td>1999.0</td>\n",
       "      <td>1999.0</td>\n",
       "      <td>1 year</td>\n",
       "      <td>1</td>\n",
       "      <td>12.0</td>\n",
       "      <td>3785088</td>\n",
       "      <td>Unreliable</td>\n",
       "    </tr>\n",
       "    <tr>\n",
       "      <th>2</th>\n",
       "      <td>NaN</td>\n",
       "      <td>1999.0</td>\n",
       "      <td>1999.0</td>\n",
       "      <td>2 years</td>\n",
       "      <td>2</td>\n",
       "      <td>5.0</td>\n",
       "      <td>3782635</td>\n",
       "      <td>Unreliable</td>\n",
       "    </tr>\n",
       "    <tr>\n",
       "      <th>3</th>\n",
       "      <td>NaN</td>\n",
       "      <td>1999.0</td>\n",
       "      <td>1999.0</td>\n",
       "      <td>3 years</td>\n",
       "      <td>3</td>\n",
       "      <td>4.0</td>\n",
       "      <td>3824806</td>\n",
       "      <td>Unreliable</td>\n",
       "    </tr>\n",
       "    <tr>\n",
       "      <th>4</th>\n",
       "      <td>NaN</td>\n",
       "      <td>1999.0</td>\n",
       "      <td>1999.0</td>\n",
       "      <td>4 years</td>\n",
       "      <td>4</td>\n",
       "      <td>4.0</td>\n",
       "      <td>3947253</td>\n",
       "      <td>Unreliable</td>\n",
       "    </tr>\n",
       "  </tbody>\n",
       "</table>\n",
       "</div>"
      ],
      "text/plain": [
       "   Notes    Year  Year Code Single-Year Ages Single-Year Ages Code  Deaths  \\\n",
       "0    NaN  1999.0     1999.0         < 1 year                     0    20.0   \n",
       "1    NaN  1999.0     1999.0           1 year                     1    12.0   \n",
       "2    NaN  1999.0     1999.0          2 years                     2     5.0   \n",
       "3    NaN  1999.0     1999.0          3 years                     3     4.0   \n",
       "4    NaN  1999.0     1999.0          4 years                     4     4.0   \n",
       "\n",
       "  Population  Crude Rate  \n",
       "0    3795762         0.5  \n",
       "1    3785088  Unreliable  \n",
       "2    3782635  Unreliable  \n",
       "3    3824806  Unreliable  \n",
       "4    3947253  Unreliable  "
      ]
     },
     "execution_count": 4,
     "metadata": {},
     "output_type": "execute_result"
    }
   ],
   "source": [
    "# Load data\n",
    "op_mort = pd.read_csv('Single Year Opioid Mortality Data, 1999-2017.txt', sep='\\t')\n",
    "\n",
    "# Extract total deaths\n",
    "op_mort_totals = op_mort[(op_mort.Notes == 'Total') & (op_mort.Year.notna())].reset_index(drop=True)\n",
    "\n",
    "# Clean data to only include rows with valid years\n",
    "op_mort = op_mort[(op_mort.Year.notna()) & (op_mort['Single-Year Ages Code'] != 'NS') & (op_mort.Notes.isna())]\n",
    "op_mort.replace('Not Applicable',np.nan, inplace=True)\n",
    "\n",
    "op_mort.head()"
   ]
  },
  {
   "cell_type": "markdown",
   "metadata": {},
   "source": [
    "### Deaths by Suicide "
   ]
  },
  {
   "cell_type": "markdown",
   "metadata": {},
   "source": [
    "We also analyzed suicide rates by age and year from 199-2017 using the Multiple Cause of Death Data. \n",
    "\n",
    "We requested the data using \"MCD - ICD-10 113 Cause List\" with the cause \"GR113-124 Intentional self-harm (suicide) (*U03,X60-X84,Y87.0)\"\n",
    "\n",
    "Terms of use: https://wonder.cdc.gov/mcd-icd10.html"
   ]
  },
  {
   "cell_type": "code",
   "execution_count": null,
   "metadata": {},
   "outputs": [
    {
     "data": {
      "text/html": [
       "<div>\n",
       "<style scoped>\n",
       "    .dataframe tbody tr th:only-of-type {\n",
       "        vertical-align: middle;\n",
       "    }\n",
       "\n",
       "    .dataframe tbody tr th {\n",
       "        vertical-align: top;\n",
       "    }\n",
       "\n",
       "    .dataframe thead th {\n",
       "        text-align: right;\n",
       "    }\n",
       "</style>\n",
       "<table border=\"1\" class=\"dataframe\">\n",
       "  <thead>\n",
       "    <tr style=\"text-align: right;\">\n",
       "      <th></th>\n",
       "      <th>Notes</th>\n",
       "      <th>Year</th>\n",
       "      <th>Year Code</th>\n",
       "      <th>Single-Year Ages</th>\n",
       "      <th>Single-Year Ages Code</th>\n",
       "      <th>Deaths</th>\n",
       "      <th>Population</th>\n",
       "      <th>Crude Rate</th>\n",
       "    </tr>\n",
       "  </thead>\n",
       "  <tbody>\n",
       "    <tr>\n",
       "      <th>0</th>\n",
       "      <td>NaN</td>\n",
       "      <td>1999.0</td>\n",
       "      <td>1999.0</td>\n",
       "      <td>7 years</td>\n",
       "      <td>7</td>\n",
       "      <td>1.0</td>\n",
       "      <td>4163303</td>\n",
       "      <td>Unreliable</td>\n",
       "    </tr>\n",
       "    <tr>\n",
       "      <th>1</th>\n",
       "      <td>NaN</td>\n",
       "      <td>1999.0</td>\n",
       "      <td>1999.0</td>\n",
       "      <td>9 years</td>\n",
       "      <td>9</td>\n",
       "      <td>1.0</td>\n",
       "      <td>4230069</td>\n",
       "      <td>Unreliable</td>\n",
       "    </tr>\n",
       "    <tr>\n",
       "      <th>2</th>\n",
       "      <td>NaN</td>\n",
       "      <td>1999.0</td>\n",
       "      <td>1999.0</td>\n",
       "      <td>10 years</td>\n",
       "      <td>10</td>\n",
       "      <td>7.0</td>\n",
       "      <td>4148653</td>\n",
       "      <td>Unreliable</td>\n",
       "    </tr>\n",
       "    <tr>\n",
       "      <th>3</th>\n",
       "      <td>NaN</td>\n",
       "      <td>1999.0</td>\n",
       "      <td>1999.0</td>\n",
       "      <td>11 years</td>\n",
       "      <td>11</td>\n",
       "      <td>22.0</td>\n",
       "      <td>4036182</td>\n",
       "      <td>0.5</td>\n",
       "    </tr>\n",
       "    <tr>\n",
       "      <th>4</th>\n",
       "      <td>NaN</td>\n",
       "      <td>1999.0</td>\n",
       "      <td>1999.0</td>\n",
       "      <td>12 years</td>\n",
       "      <td>12</td>\n",
       "      <td>32.0</td>\n",
       "      <td>4009910</td>\n",
       "      <td>0.8</td>\n",
       "    </tr>\n",
       "  </tbody>\n",
       "</table>\n",
       "</div>"
      ],
      "text/plain": [
       "   Notes    Year  Year Code Single-Year Ages Single-Year Ages Code  Deaths  \\\n",
       "0    NaN  1999.0     1999.0          7 years                     7     1.0   \n",
       "1    NaN  1999.0     1999.0          9 years                     9     1.0   \n",
       "2    NaN  1999.0     1999.0         10 years                    10     7.0   \n",
       "3    NaN  1999.0     1999.0         11 years                    11    22.0   \n",
       "4    NaN  1999.0     1999.0         12 years                    12    32.0   \n",
       "\n",
       "  Population  Crude Rate  \n",
       "0    4163303  Unreliable  \n",
       "1    4230069  Unreliable  \n",
       "2    4148653  Unreliable  \n",
       "3    4036182         0.5  \n",
       "4    4009910         0.8  "
      ]
     },
     "execution_count": 5,
     "metadata": {},
     "output_type": "execute_result"
    }
   ],
   "source": [
    "# Load data\n",
    "su_mort = pd.read_csv('Single Year Suicide Mortality Data, 1999-2017.txt', sep='\\t')\n",
    "\n",
    "# Extract total deaths\n",
    "su_mort_totals = su_mort[(su_mort.Notes == 'Total') & (su_mort.Year.notna())].reset_index(drop=True)\n",
    "\n",
    "# Clean data to only include rows with valid years\n",
    "su_mort = su_mort[(su_mort.Year.notna()) & (su_mort['Single-Year Ages Code'] != 'NS') & (su_mort.Notes.isna())]\n",
    "su_mort.replace('Not Applicable',np.nan, inplace=True)\n",
    "\n",
    "su_mort.head()"
   ]
  },
  {
   "cell_type": "markdown",
   "metadata": {},
   "source": [
    "## **Introduction**"
   ]
  },
  {
   "cell_type": "markdown",
   "metadata": {},
   "source": [
    "In recent years, a downward trend in the Average Life Expectancy (ALE) in the US has emerged, reversing the longstanding trend of steady increase in ALE."
   ]
  },
  {
   "cell_type": "code",
   "execution_count": null,
   "metadata": {},
   "outputs": [
    {
     "data": {
      "image/png": "[encoded data removed]",
      "text/plain": [
       "<Figure size 432x288 with 1 Axes>"
      ]
     },
     "metadata": {
      "needs_background": "light"
     },
     "output_type": "display_data"
    }
   ],
   "source": [
    "plt.plot(recent.Year, recent['Average Life Expectancy (Years)'])\n",
    "\n",
    "plt.xlabel('Year')\n",
    "plt.ylabel('Average Life Expectancy (Years)')\n",
    "plt.title('Life Expectancy in the US');\n"
   ]
  },
  {
   "cell_type": "markdown",
   "metadata": {},
   "source": [
    "At the same time, the number of opioid related deaths has been increasing with a sharp up-tick in the past five years. Rates of suicide have also been increasing, but as of 2011, the rates of opioid related deaths have overtaken those related to suicide.\n",
    "\n",
    "Accordingly, we were curious if these factors have contributed substantially to this recent downward trend. "
   ]
  },
  {
   "cell_type": "code",
   "execution_count": null,
   "metadata": {},
   "outputs": [
    {
     "data": {
      "text/plain": [
       "(5, 22)"
      ]
     },
     "execution_count": 7,
     "metadata": {},
     "output_type": "execute_result"
    },
    {
     "data": {
      "image/png": "[encoded data removed]",
      "text/plain": [
       "<Figure size 432x288 with 1 Axes>"
      ]
     },
     "metadata": {
      "needs_background": "light"
     },
     "output_type": "display_data"
    }
   ],
   "source": [
    "plt.plot(op_mort_totals.Year, op_mort_totals['Crude Rate'].astype('float64'))\n",
    "plt.xlabel('Year')\n",
    "plt.ylabel('Opioid Related Deaths (Per 100,000 people)')\n",
    "plt.title('Opioid Related Deaths in US Over Time');\n",
    "plt.ylim(5, 22)"
   ]
  },
  {
   "cell_type": "code",
   "execution_count": null,
   "metadata": {},
   "outputs": [
    {
     "data": {
      "text/plain": [
       "(5, 22)"
      ]
     },
     "execution_count": 8,
     "metadata": {},
     "output_type": "execute_result"
    },
    {
     "data": {
      "image/png": "[encoded data removed]",
      "text/plain": [
       "<Figure size 432x288 with 1 Axes>"
      ]
     },
     "metadata": {
      "needs_background": "light"
     },
     "output_type": "display_data"
    }
   ],
   "source": [
    "plt.plot(su_mort_totals.Year, su_mort_totals['Crude Rate'].astype('float64'))\n",
    "plt.xlabel('Year')\n",
    "plt.ylabel('Deaths by Suicide (Per 100,000 people)')\n",
    "plt.title('Deaths by Suicide in US Over Time');\n",
    "plt.ylim(5, 22)"
   ]
  },
  {
   "cell_type": "markdown",
   "metadata": {},
   "source": [
    "## **Methodology**"
   ]
  },
  {
   "cell_type": "markdown",
   "metadata": {},
   "source": [
    "To be able to find out what effect the deaths for a given cause of death have had on the life expectancy in the US, we created a function to model what the populations would look like if no one had died for that specified cause of death. We will do this by subtracting those deaths related to a chosen cause of death from the total deaths by age group. \n",
    "\n",
    "In our case, we will be modeling populations for a Zero-Opioid Scenario (a theoretical scenario where any deaths related to opioid overdoses do not occur) and a Zero-Suicide Scenario (a theoretical scenario where any deaths by suicide do not occur).\n"
   ]
  },
  {
   "cell_type": "code",
   "execution_count": null,
   "metadata": {},
   "outputs": [],
   "source": [
    "def make_zero_var_scenario(df):\n",
    "    '''\n",
    "    Takes in a DataFrame for the mortality data for a given cause of death.\n",
    "    Returns a modified version of sy_mort where the deaths in the input DataFrame are removed. \n",
    "    \n",
    "    '''\n",
    "    mod_df = sy_mort.copy(deep=True)\n",
    "    \n",
    "    # Iterate through years and ages\n",
    "    for year in range(1999,2018):\n",
    "        for age in range(0,101):\n",
    "            \n",
    "            # Find if death count is available for a given combo of age and year to subtract\n",
    "            df_index = df[(df['Year'] == year) & (df['Single-Year Ages Code'].astype('int64')==age)].first_valid_index()\n",
    "            if df_index == None:\n",
    "                df_deaths = 0\n",
    "            else:\n",
    "                df_deaths = df.at[df_index, 'Deaths']\n",
    "\n",
    "            z_index = mod_df[(mod_df['Year'] == year) & (mod_df['Single-Year Ages Code'].astype('int64')==age)].first_valid_index()\n",
    "            mod_df.at[z_index, 'Deaths'] = mod_df.at[z_index, 'Deaths'] - df_deaths\n",
    "            \n",
    "    return mod_df"
   ]
  },
  {
   "cell_type": "markdown",
   "metadata": {},
   "source": [
    "Because the dataset does not contain population estimates for respondents 85 and older, we needed to estimate these values.\n",
    "\n",
    "To do this, we chose to look at the total population of 84-year-olds and subract the death count of 85-year-olds to estimate the population of 85-year-olds. However, if we contine to do this for the remaining ages, the final population is not zero because the changes to the 84-year-old population actually appeare in the 85-year old population in the following year.\n",
    "\n",
    "Accordingly, we looked at the 84-year-old population and divided it by the sum of deaths from age 85-100+ for that year. This gave us a scale factor that allowed us to spread this discrepancy out accross the data while retaining the proportional changes in population each year. "
   ]
  },
  {
   "cell_type": "code",
   "execution_count": null,
   "metadata": {},
   "outputs": [],
   "source": [
    "def estimating_pop(df):\n",
    "    \n",
    "    for year in range(1999,2018):\n",
    "        #index at 84 years old for the given year\n",
    "        df_index = df[(df['Year'] == year) & (df['Single-Year Ages Code'].astype('int64')==84)].first_valid_index() \n",
    "        temp = df[(df['Year']==year) & (df['Single-Year Ages Code'].astype('int64')>=85)]\n",
    "\n",
    "\n",
    "        pop = int(df.at[df_index, 'Population'])\n",
    "\n",
    "        factor = pop/temp['Deaths'].sum()\n",
    "        df_index += 1\n",
    "\n",
    "        for age in range(85,101):\n",
    "            pop = pop - int(df.at[df_index, 'Deaths']*factor)\n",
    "            df.at[df_index, 'Population'] = pop\n",
    "            df_index += 1\n",
    "    "
   ]
  },
  {
   "cell_type": "markdown",
   "metadata": {},
   "source": [
    "To create a function to calculate the ALE for every year, we looked to the CDC's *A Method for Constructing\n",
    "Complete Annual U.S. Life Tables* for the formulas they use in calculating the probability of death (q<sub>x</sub>) and the survival function (l<sub>x</sub>) to compute the life expectancy at every age. The life expectancy at birth is the ALE."
   ]
  },
  {
   "cell_type": "code",
   "execution_count": null,
   "metadata": {},
   "outputs": [],
   "source": [
    "def life_expect_df(df):\n",
    "    \n",
    "    '''\n",
    "    Takes in a DataFrame with the modified mortality data for a Zero-(Cause of Death) Scenario.\n",
    "    Returns a DataFrame containing the ALEs at birth for this scenario\n",
    "    \n",
    "    '''   \n",
    "    \n",
    "\n",
    "    df['qx'] = df['Deaths']/(df['Population'].astype('float64')+.5*df['Deaths'])\n",
    "    df['lx'] = df['Single-Year Ages Code'][::].astype('float64')\n",
    "    df['lx'].replace(0,100000, inplace=True)\n",
    "\n",
    "    for year in range(1999,2018):\n",
    "        df_index = df[df.Year == year].first_valid_index()+1\n",
    "\n",
    "        for age in range(1,101):\n",
    "            df.at[df_index,'lx'] = df.at[(df_index-1),'lx'] *(1-df.at[df_index-1,'qx'])\n",
    "            df_index+=1\n",
    "\n",
    "    df['dx'] = df['lx']*df['qx']\n",
    "    df['Lx'] = df['lx'] - .5*df['dx']\n",
    "    df['Tx'] = 0.0\n",
    "    \n",
    "    for year in range(1999,2018):\n",
    "        df_index = df[df.Year == year].first_valid_index()\n",
    "\n",
    "        for age in range(0,101):\n",
    "            temp = df[(df.Year == year) & (df['Single-Year Ages Code'].astype('int64') >= age)]        \n",
    "            df.at[df_index,'Tx'] = temp['Lx'].sum()\n",
    "            df_index+=1\n",
    "\n",
    "    df['ex'] = df['Tx']/df['lx']\n",
    "    birth_le = df[df['Single-Year Ages Code'].astype('int64')==0] \n",
    "    \n",
    "    return birth_le.reset_index(drop=True)\n"
   ]
  },
  {
   "cell_type": "markdown",
   "metadata": {},
   "source": [
    "Graphed below are both the ALEs reported by the NCHS and the ones we calculated. This graph is visual validation for our calculations, as it traces the true ALE very closely.\n",
    "\n",
    "Around the year 2003, we see that our model for the ALE differs from the true ALE more than any other year, so our results for modeling what the ALE would look like under our different scenarios will not be as accurate around this year as they would be for the other given years. However, we are more concerned with the downward trend in the ALE in the most recent years, and our model is a very good fit for the most recent years.\n",
    "\n",
    "The close fit of our model indicates that we can create a good estimate of what the life expectancy we would expect to see when we remove the effects of a given cause of death."
   ]
  },
  {
   "cell_type": "code",
   "execution_count": null,
   "metadata": {},
   "outputs": [
    {
     "data": {
      "image/png": "[encoded data removed]",
      "text/plain": [
       "<Figure size 432x288 with 1 Axes>"
      ]
     },
     "metadata": {
      "needs_background": "light"
     },
     "output_type": "display_data"
    }
   ],
   "source": [
    "estimating_pop(sy_mort)\n",
    "birth_le = life_expect_df(sy_mort)\n",
    "\n",
    "\n",
    "plt.plot(recent.Year, birth_le['ex'], label='Calculated ALE')\n",
    "plt.plot(recent.Year, recent['Average Life Expectancy (Years)'], label='Real ALE')\n",
    "\n",
    "plt.xlabel('Year')\n",
    "plt.ylabel('Average Life Expectancy (Years)')\n",
    "plt.title('True ALE Compared to ALE Expected from Model')\n",
    "plt.legend();"
   ]
  },
  {
   "cell_type": "code",
   "execution_count": null,
   "metadata": {
    "scrolled": true
   },
   "outputs": [],
   "source": [
    "# birth_le['Year2'] = birth_le['Year']**2\n",
    "\n",
    "# model = smf.ols('ex ~ Year + Year2', data=birth_le)\n",
    "# results = model.fit()\n",
    "# results.summary()\n",
    "\n",
    "\n",
    "# plt.plot(recent.Year, recent['Average Life Expectancy (Years)'], label='Real ALE')\n",
    "\n",
    "# pred = results.predict(birth_le)\n",
    "# plt.plot(birth_le['Year'], pred, label='Calculated ALE')\n",
    "\n",
    "# plt.xlabel('Year')\n",
    "# plt.ylabel('Average Life Expectancy (Years)')\n",
    "# plt.title('True ALE Compared to ALE Expected from Model')\n",
    "# plt.legend();"
   ]
  },
  {
   "cell_type": "code",
   "execution_count": null,
   "metadata": {},
   "outputs": [],
   "source": [
    "noise = recent['Average Life Expectancy (Years)'] - pred\n",
    "noise\n",
    "pdf_noise = Cdf(noise)\n",
    "\n",
    "thinkplot.cdf(pdf_noise, label='noise');\n",
    "thinkplot.Show(title='Distribution of Noise',xlabel='Error', ylabel='Pdf');\n"
   ]
  },
  {
   "cell_type": "markdown",
   "metadata": {},
   "source": [
    "## **Results**"
   ]
  },
  {
   "cell_type": "markdown",
   "metadata": {},
   "source": [
    "Here the calculated ALE's from our model and the Zero-Opioid Scenario ALE's are graphed. In the earlier years, the ALE for a Zero-Opioid Scenario differs very little from the actual ALE. However, in the most recent years, the gap between the two is wider than it has ever been. "
   ]
  },
  {
   "cell_type": "code",
   "execution_count": null,
   "metadata": {},
   "outputs": [],
   "source": [
    "# Create mortality data DataFrames for a Zero-Suicide Scenario \n",
    "zero_op_mort = make_zero_var_scenario(op_mort)\n",
    "estimating_pop(zero_op_mort)\n",
    "birth_le_mod_op = life_expect_df(zero_op_mort)\n",
    "\n",
    "plt.plot(recent.Year, birth_le['ex'], label='Calculated ALE')\n",
    "plt.plot(recent.Year, birth_le_mod_op['ex'], label='Zero-Opioid ALE')\n",
    "\n",
    "plt.xlabel('Year')\n",
    "plt.ylabel('Average Life Expectancy (Years)')\n",
    "plt.title('Difference in ALE compared to a Zero-Opioid Scenario')\n",
    "plt.legend();"
   ]
  },
  {
   "cell_type": "markdown",
   "metadata": {},
   "source": [
    "Here the calculated ALE's from our model and the Zero-Suicide Scenario ALE's are graphed. In the earlier years, the ALE's for a Zero-Suicide Scenario differ much more from the actual ALE than the ALE's for a Zero-Opioid Scenario. However, the contribution of suicides on lowering the ALE is not nearly as drastic as opioid related deaths have been. At a point, the difference between the calculated ALE's and the Zero-Opioid Scenario ALE's becomes greater than the difference between the calculated ALE's and the Zero-Suicide Scenario ALE's. \n",
    "\n",
    "This indicated that historically, suicides have been a larger factor in lowering the life expectancy, but the dramatic increase in opioid related deaths have notably contributed to ALE decreasing."
   ]
  },
  {
   "cell_type": "code",
   "execution_count": null,
   "metadata": {},
   "outputs": [],
   "source": [
    "print((birth_le_mod_op['ex'][:8]-birth_le['ex'][:8]).sum()/8, \"years\") #average difference predating 2007"
   ]
  },
  {
   "cell_type": "code",
   "execution_count": null,
   "metadata": {},
   "outputs": [],
   "source": [
    "print(birth_le_mod_op['ex'][18] - birth_le['ex'][18], \"years\") ##differnce in 2017"
   ]
  },
  {
   "cell_type": "code",
   "execution_count": null,
   "metadata": {
    "scrolled": true
   },
   "outputs": [],
   "source": [
    "# Create mortality data DataFrames for a Zero-Suicide Scenario \n",
    "zero_su_mort = make_zero_var_scenario(su_mort)\n",
    "estimating_pop(zero_su_mort)\n",
    "birth_le_mod_su = life_expect_df(zero_su_mort)\n",
    "\n",
    "plt.plot(recent.Year, birth_le['ex'], label='Calculated ALE')\n",
    "plt.plot(recent.Year, birth_le_mod_su['ex'], label='Zero-Suicide ALE')\n",
    "\n",
    "plt.xlabel('Year')\n",
    "plt.ylabel('Average Life Expectancy (Years)')\n",
    "plt.title('Difference in ALE compared to a Zero-Suicide Scenario')\n",
    "plt.legend();"
   ]
  },
  {
   "cell_type": "code",
   "execution_count": null,
   "metadata": {},
   "outputs": [],
   "source": [
    "print((birth_le_mod_su['ex'][:8]-birth_le['ex'][:8]).sum()/8, \"years\") #average difference predating 2007"
   ]
  },
  {
   "cell_type": "code",
   "execution_count": null,
   "metadata": {},
   "outputs": [],
   "source": [
    "print(birth_le_mod_su['ex'][18] - birth_le['ex'][18], \"years\") #differnce in 2017"
   ]
  },
  {
   "cell_type": "markdown",
   "metadata": {},
   "source": [
    "According to the model, the ALE in 2017 would have been about 0.60 years higher if there had been no opioid-related deaths (79.22 years, compared to the observed 78.6 years). Similarly, in 2016 the ALE would have been 0.48 years higher in a Zero-Opioid Scenario (79.18 years compared to the observed 78.7).\n",
    "\n",
    "It is only recently that these deaths have created an observable effect this large. Prior to 2007, the average difference between the Zero-Opioid ALE and the observed ALE was 0.22 years.\n",
    "\n",
    "If there had been no deaths by suicide, the ALE in 2017 would have been about 0.38 years higher (79.00 years, compared to the observed 78.6 years). Similarly, in 2016 the ALE would have been 0.36 years higher in a Zero-Opioid Scenario (79.00 years compared to the observed 78.7). Predating 2007, the average difference between the Zero-Suicide ALE and the observed ALE was 0.27 years. \n",
    "\n",
    "\n",
    "Taking all of this into account, it appears that although suicides do lower the life expectancy, they have done so at a relatively constant rate across years. It is the opioid related deaths that seem to have affected the statistic so much that the trend has turned downwards.\n"
   ]
  },
  {
   "cell_type": "code",
   "execution_count": null,
   "metadata": {},
   "outputs": [],
   "source": []
  }
 ],
 "metadata": {
  "kernelspec": {
   "display_name": "Python 3",
   "language": "python",
   "name": "python3"
  },
  "language_info": {
   "codemirror_mode": {
    "name": "ipython",
    "version": 3
   },
   "file_extension": ".py",
   "mimetype": "text/x-python",
   "name": "python",
   "nbconvert_exporter": "python",
   "pygments_lexer": "ipython3",
   "version": "3.6.8"
  }
 },
 "nbformat": 4,
 "nbformat_minor": 2
}
