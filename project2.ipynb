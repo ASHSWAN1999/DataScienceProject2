{
 "cells": [
  {
   "cell_type": "markdown",
   "metadata": {},
   "source": [
    "# The Contribution of the Opioid Epidemic on the Falling Life Expectancy in the United States\n",
    "\n",
    "### Sabrina Pereira\n",
    "\n",
    "[MIT License](https://en.wikipedia.org/wiki/MIT_License)"
   ]
  },
  {
   "cell_type": "code",
   "execution_count": 1,
   "metadata": {},
   "outputs": [],
   "source": [
    "%matplotlib inline\n",
    "\n",
    "import pandas as pd\n",
    "import numpy as np\n",
    "\n",
    "import matplotlib.pyplot as plt\n",
    "\n",
    "from scipy.stats import linregress\n",
    "\n",
    "import thinkstats2\n",
    "import thinkplot\n",
    "# from survival import SurvivalFunction"
   ]
  },
  {
   "cell_type": "code",
   "execution_count": 2,
   "metadata": {},
   "outputs": [],
   "source": [
    "''' \n",
    "Data loading and cleaning. Methodology section of the notebook will cover this process in more detail.\n",
    "\n",
    "'''\n",
    "\n",
    "nchs = pd.read_csv('nchs.csv', sep=',')\n",
    "sy_mort = pd.read_csv('Single Year Mortality Data, 1999-2017.txt', sep='\\t')\n",
    "op_mort = pd.read_csv('Single Year Opioid Mortality Data, 1999-2017.txt', sep='\\t')\n",
    "su_mort = pd.read_csv('Single Year Suicide Mortality Data, 1999-2017.txt', sep='\\t')\n",
    "\n",
    "ag_mort = pd.read_csv('Age Grouped Mortality, 1999-2017.txt', sep='\\t')\n",
    "\n",
    "# Extract total deaths\n",
    "# sy_mort_totals = sy_mort[(sy_mort.Notes == 'Total') & (sy_mort.Year.notna())].reset_index(drop=True)\n",
    "# ag_mort_totals = ag_mort[(ag_mort.Notes == 'Total') & (ag_mort.Year.notna())].reset_index(drop=True)\n",
    "\n",
    "\n",
    "# Clean data to only contain rows that have valid years\n",
    "sy_mort = sy_mort[(sy_mort.Year.notna()) & (sy_mort['Single-Year Ages Code'] != 'NS') & (sy_mort.Notes.isna())]\n",
    "op_mort = op_mort[(op_mort.Year.notna()) & (op_mort['Single-Year Ages Code'] != 'NS') & (op_mort.Notes.isna())]\n",
    "su_mort = su_mort[(su_mort.Year.notna()) & (su_mort['Single-Year Ages Code'] != 'NS') & (su_mort.Notes.isna())]\n",
    "\n",
    "# sy_mort = sy_mort[(sy_mort['Single-Year Ages Code'].astype('int64') < 86)]\n",
    "sy_mort.replace('Not Applicable',np.nan, inplace=True)\n",
    "op_mort.replace('Not Applicable',np.nan, inplace=True)\n",
    "su_mort.replace('Not Applicable',np.nan, inplace=True)\n",
    "\n",
    "ag_mort = ag_mort[(ag_mort.Year.notna()) & (ag_mort['Ten-Year Age Groups Code'] != 'NS') & (ag_mort.Notes.isna())]\n",
    "\n",
    "# opioid['Crude Rate'].replace('Unreliable',0, inplace=True)     # In cases where the Crude Rate is very small it is termed \"Unreliable\", we will replace it with 0\n",
    "\n",
    "# Manually adding the nchs data to a data frame with the most recent data \n",
    "d = {'Year': [2017, 2016, 2015], 'Race': 3*['All Races'], 'Sex' : 3*['Both Sexes'], 'Average Life Expectancy (Years)':[78.6,78.7, 78.7], 'Age-adjusted Death Rate': [731.9, 728.8, 733.1]}\n",
    "df = pd.DataFrame(data=d)\n",
    "nchs = df.append(nchs.drop([0]), ignore_index=True)\n",
    "\n",
    "# Select NCHS data that aligns with mort data, describing all people in the US, from 1999-2017, and in year ascending order\n",
    "everyone = nchs[(nchs.Race == 'All Races') & (nchs.Sex == 'Both Sexes')]\n",
    "recent = everyone[everyone.Year > 1998][::-1].reset_index(drop=True)"
   ]
  },
  {
   "cell_type": "code",
   "execution_count": null,
   "metadata": {},
   "outputs": [],
   "source": []
  },
  {
   "cell_type": "code",
   "execution_count": 9,
   "metadata": {},
   "outputs": [],
   "source": [
    "def make_zero_var_scenario(df):\n",
    "\n",
    "    mod_df = sy_mort.copy(deep=True)\n",
    "\n",
    "    for year in range(1999,2018):\n",
    "\n",
    "        for age in range(0,101):\n",
    "            df_index = df[(df['Year'] == year) & (df['Single-Year Ages Code'].astype('int64')==age)].first_valid_index()\n",
    "\n",
    "            if df_index == None:\n",
    "                df_deaths = 0\n",
    "            else:\n",
    "                df_deaths = df.at[df_index, 'Deaths']\n",
    "\n",
    "            z_index = mod_df[(mod_df['Year'] == year) & (mod_df['Single-Year Ages Code'].astype('int64')==age)].first_valid_index()\n",
    "            mod_df.at[z_index, 'Deaths'] = mod_df.at[z_index, 'Deaths'] - df_deaths\n",
    "            \n",
    "    return mod_df"
   ]
  },
  {
   "cell_type": "code",
   "execution_count": 4,
   "metadata": {},
   "outputs": [],
   "source": [
    "def estimating_pop(df):\n",
    "    \n",
    "    for year in range(1999,2018):\n",
    "        #index at 84 years old for the given year\n",
    "        df_index = df[(df['Year'] == year) & (df['Single-Year Ages Code'].astype('int64')==84)].first_valid_index() \n",
    "        temp = df[(df['Year']==year) & (df['Single-Year Ages Code'].astype('int64')>=85)]\n",
    "\n",
    "\n",
    "        pop = int(df.at[df_index, 'Population'])\n",
    "\n",
    "        factor = pop/temp['Deaths'].sum()\n",
    "        df_index += 1\n",
    "\n",
    "        for age in range(85,101):\n",
    "            pop = pop - int(df.at[df_index, 'Deaths']*factor)\n",
    "            df.at[df_index, 'Population'] = pop\n",
    "            df_index += 1\n",
    "    "
   ]
  },
  {
   "cell_type": "code",
   "execution_count": 5,
   "metadata": {},
   "outputs": [],
   "source": [
    "def life_expect_df(df):\n",
    "\n",
    "    df['qx'] = df['Deaths']/(df['Population'].astype('float64')+.5*df['Deaths'])\n",
    "    df['lx'] = df['Single-Year Ages Code'][::].astype('float64')\n",
    "    df['lx'].replace(0,100000, inplace=True)\n",
    "\n",
    "    for year in range(1999,2018):\n",
    "        df_index = df[df.Year == year].first_valid_index()+1\n",
    "\n",
    "        for age in range(1,101):\n",
    "            df.at[df_index,'lx'] = df.at[(df_index-1),'lx'] *(1-df.at[df_index-1,'qx'])\n",
    "            df_index+=1\n",
    "\n",
    "    df['dx'] = df['lx']*df['qx']\n",
    "    df['Lx'] = df['lx'] - .5*df['dx']\n",
    "    df['Tx'] = 0.0\n",
    "    \n",
    "    for year in range(1999,2018):\n",
    "        df_index = df[df.Year == year].first_valid_index()\n",
    "\n",
    "        for age in range(0,101):\n",
    "            temp = df[(df.Year == year) & (df['Single-Year Ages Code'].astype('int64') >= age)]        \n",
    "            df.at[df_index,'Tx'] = temp['Lx'].sum()\n",
    "            df_index+=1\n",
    "\n",
    "    df['ex'] = df['Tx']/df['lx']\n",
    "    birth_le = df[df['Single-Year Ages Code'].astype('int64')==0] \n",
    "    \n",
    "    return birth_le\n"
   ]
  },
  {
   "cell_type": "code",
   "execution_count": 6,
   "metadata": {},
   "outputs": [],
   "source": [
    "estimating_pop(sy_mort)\n",
    "birth_le = life_expect_df(sy_mort)\n"
   ]
  },
  {
   "cell_type": "code",
   "execution_count": 7,
   "metadata": {},
   "outputs": [
    {
     "data": {
      "image/png": "[encoded data removed]",
      "text/plain": [
       "<Figure size 432x288 with 1 Axes>"
      ]
     },
     "metadata": {},
     "output_type": "display_data"
    }
   ],
   "source": [
    "plt.plot(recent.Year, birth_le['ex'], label='Our ALE')\n",
    "plt.plot(recent.Year, recent['Average Life Expectancy (Years)'], label='Real ALE')\n",
    "\n",
    "plt.xlabel('Year')\n",
    "plt.ylabel('Average Life Expectancy (Years)')\n",
    "plt.title('True ALE Compared to ALE Expected from Model')\n",
    "plt.legend();"
   ]
  },
  {
   "cell_type": "code",
   "execution_count": 10,
   "metadata": {},
   "outputs": [],
   "source": [
    "zero_op_mort = make_zero_var_scenario(op_mort)\n",
    "estimating_pop(zero_op_mort)\n",
    "birth_le_mod = life_expect_df(zero_op_mort)"
   ]
  },
  {
   "cell_type": "code",
   "execution_count": 11,
   "metadata": {},
   "outputs": [
    {
     "data": {
      "image/png": "[encoded data removed]",
      "text/plain": [
       "<Figure size 432x288 with 1 Axes>"
      ]
     },
     "metadata": {},
     "output_type": "display_data"
    }
   ],
   "source": [
    "plt.plot(recent.Year, birth_le['ex'], label='Our ALE')\n",
    "plt.plot(recent.Year, birth_le_mod['ex'], label='Our Zero-Opioid ALE')\n",
    "# plt.plot(recent.Year, recent['Average Life Expectancy (Years)'], label='Real ALE')\n",
    "\n",
    "plt.xlabel('Year')\n",
    "plt.ylabel('Average Life Expectancy (Years)')\n",
    "plt.title('True ALE Compared to ALE Expected from Model')\n",
    "plt.legend();"
   ]
  },
  {
   "cell_type": "code",
   "execution_count": 12,
   "metadata": {},
   "outputs": [],
   "source": [
    "zero_su_mort = make_zero_var_scenario(su_mort)\n",
    "estimating_pop(zero_su_mort)\n",
    "birth_le_mod = life_expect_df(zero_su_mort)"
   ]
  },
  {
   "cell_type": "code",
   "execution_count": 13,
   "metadata": {},
   "outputs": [
    {
     "data": {
      "image/png": "[encoded data removed]",
      "text/plain": [
       "<Figure size 432x288 with 1 Axes>"
      ]
     },
     "metadata": {},
     "output_type": "display_data"
    }
   ],
   "source": [
    "plt.plot(recent.Year, birth_le['ex'], label='Our ALE')\n",
    "plt.plot(recent.Year, birth_le_mod['ex'], label='Our Zero-Opioid ALE')\n",
    "# plt.plot(recent.Year, recent['Average Life Expectancy (Years)'], label='Real ALE')\n",
    "\n",
    "plt.xlabel('Year')\n",
    "plt.ylabel('Average Life Expectancy (Years)')\n",
    "plt.title('True ALE Compared to ALE Expected from Model')\n",
    "plt.legend();"
   ]
  },
  {
   "cell_type": "code",
   "execution_count": null,
   "metadata": {},
   "outputs": [],
   "source": [
    "def EstimateHazardFunction(year, label=''):\n",
    "    hist_complete = {}\n",
    "    hist_ongoing = {}\n",
    "    \n",
    "    at_risk = 0\n",
    "\n",
    "    year_group = sy_mort[sy_mort.Year == year].reset_index(drop=True)\n",
    "\n",
    "    for age in range(0,86):\n",
    "        hist_complete[age] = year_group['Deaths'].iloc[age]\n",
    "        hist_ongoing[age] = float(year_group['Population'].iloc[age]) - .5*float(year_group['Deaths'].iloc[age])\n",
    "        at_risk += hist_complete[age] + hist_ongoing[age]\n",
    "\n",
    "#     ts = list(hist_complete | hist_ongoing)\n",
    "#     ts.sort()\n",
    "\n",
    "    ts = np.linspace(0,85,86)\n",
    "    print(ts)\n",
    "    lams = pd.Series(index=ts)\n",
    "    for t in ts:\n",
    "        ended = hist_complete[t]\n",
    "        censored = hist_ongoing[t]\n",
    "        lams[t] = ended / at_risk\n",
    "        at_risk -= ended + censored\n",
    "    return HazardFunction(lams, label=label)\n",
    "\n",
    "hazard_1999 = EstimateHazardFunction(1999)\n",
    "survival_1999 = hazard_1999.MakeSurvival(label='1999')\n",
    "remaming_1999 = survival_1999.RemainingLifetime()\n",
    "\n",
    "thinkplot.Plot(remaming_1999)\n",
    "hazard_1999[80]"
   ]
  },
  {
   "cell_type": "code",
   "execution_count": null,
   "metadata": {},
   "outputs": [],
   "source": [
    "hazard_2017 = EstimateHazardFunction(2017)\n",
    "survival_2017 = hazard_2017.MakeSurvival(label='2017')\n",
    "thinkplot.Plot(survival_2017)"
   ]
  },
  {
   "cell_type": "code",
   "execution_count": null,
   "metadata": {},
   "outputs": [],
   "source": [
    "class SurvivalFunction(object):\n",
    "    \"\"\"Represents a survival function.\"\"\"\n",
    "\n",
    "    def __init__(self, ts, ss, label=''):\n",
    "        self.ts = ts\n",
    "        self.ss = ss\n",
    "        self.label = label\n",
    "\n",
    "    def __len__(self):\n",
    "        return len(self.ts)\n",
    "\n",
    "    def __getitem__(self, t):\n",
    "        return self.Prob(t)\n",
    "\n",
    "    def Prob(self, t):\n",
    "        \"\"\"Returns S(t), the probability that corresponds to value t.\n",
    "        t: time\n",
    "        returns: float probability\n",
    "        \"\"\"\n",
    "        return np.interp(t, self.ts, self.ss, left=1.0)\n",
    "\n",
    "    def Probs(self, ts):\n",
    "        \"\"\"Gets probabilities for a sequence of values.\"\"\"\n",
    "        return np.interp(ts, self.ts, self.ss, left=1.0)\n",
    "\n",
    "    def Items(self):\n",
    "        \"\"\"Sorted sequence of (t, s) pairs.\"\"\"\n",
    "        return zip(self.ts, self.ss)\n",
    "\n",
    "    def Render(self):\n",
    "        \"\"\"Generates a sequence of points suitable for plotting.\n",
    "        returns: tuple of (sorted times, survival function)\n",
    "        \"\"\"\n",
    "        return self.ts, self.ss\n",
    "\n",
    "    def MakeHazardFunction(self, label=''):\n",
    "        \"\"\"Computes the hazard function.\n",
    "\n",
    "        This simple version does not take into account the\n",
    "        spacing between the ts.  If the ts are not equally\n",
    "        spaced, it is not valid to compare the magnitude of\n",
    "        the hazard function across different time steps.\n",
    "\n",
    "        label: string\n",
    "\n",
    "        returns: HazardFunction object\n",
    "        \"\"\"\n",
    "        lams = pd.Series(index=self.ts)\n",
    "\n",
    "        prev = 1.0\n",
    "        for t, s in zip(self.ts, self.ss):\n",
    "            lams[t] = (prev - s) / prev\n",
    "            prev = s\n",
    "\n",
    "        return HazardFunction(lams, label=label)\n",
    "\n",
    "    def MakePmf(self, filler=None):\n",
    "        \"\"\"Makes a PMF of lifetimes.\n",
    "\n",
    "        filler: value to replace missing values\n",
    "\n",
    "        returns: Pmf\n",
    "        \"\"\"\n",
    "        cdf = thinkstats2.Cdf(self.ts, 1-self.ss)\n",
    "        pmf = thinkstats2.Pmf()\n",
    "        for val, prob in cdf.Items():\n",
    "            pmf.Set(val, prob)\n",
    "\n",
    "        cutoff = cdf.ps[-1]\n",
    "        if filler is not None:\n",
    "            pmf[filler] = 1-cutoff\n",
    "\n",
    "        return pmf\n",
    "\n",
    "    def RemainingLifetime(self, filler=None, func=thinkstats2.Pmf.Mean):\n",
    "        \"\"\"Computes remaining lifetime as a function of age.\n",
    "        func: function from conditional Pmf to expected liftime\n",
    "        returns: Series that maps from age to remaining lifetime\n",
    "        \"\"\"\n",
    "        pmf = self.MakePmf(filler=filler)\n",
    "        d = {}\n",
    "        for t in sorted(pmf.Values())[:-1]:\n",
    "            pmf[t] = 0\n",
    "            pmf.Normalize()\n",
    "            d[t] = func(pmf) - t\n",
    "\n",
    "        return pd.Series(d)\n",
    "\n",
    "class HazardFunction(object):\n",
    "    \"\"\"Represents a hazard function.\"\"\"\n",
    "\n",
    "    def __init__(self, d, label=''):\n",
    "        \"\"\"Initialize the hazard function.\n",
    "\n",
    "        d: dictionary (or anything that can initialize a series)\n",
    "        label: string\n",
    "        \"\"\"\n",
    "        self.series = pd.Series(d)\n",
    "        self.label = label\n",
    "\n",
    "    def __len__(self):\n",
    "        return len(self.series)\n",
    "\n",
    "    def __getitem__(self, t):\n",
    "        return self.series[t]\n",
    "\n",
    "    def Get(self, t, default=np.nan):\n",
    "        return self.series.get(t, default)\n",
    "\n",
    "    def Render(self):\n",
    "        \"\"\"Generates a sequence of points suitable for plotting.\n",
    "\n",
    "        returns: tuple of (sorted times, hazard function)\n",
    "        \"\"\"\n",
    "        return self.series.index, self.series.values\n",
    "\n",
    "    def MakeSurvival(self, label=''):\n",
    "        \"\"\"Makes the survival function.\n",
    "\n",
    "        returns: SurvivalFunction\n",
    "        \"\"\"\n",
    "        ts = self.series.index\n",
    "        ss = (1 - self.series).cumprod()\n",
    "        sf = SurvivalFunction(ts, ss, label=label)\n",
    "        return sf\n",
    "\n",
    "    def Extend(self, other):\n",
    "        \"\"\"Extends this hazard function by copying the tail from another.\n",
    "        other: HazardFunction\n",
    "        \"\"\"\n",
    "        last_index = self.series.index[-1] if len(self) else 0\n",
    "        more = other.series[other.series.index > last_index]\n",
    "        self.series = pd.concat([self.series, more])\n",
    "\n",
    "    def Truncate(self, t):\n",
    "        \"\"\"Truncates this hazard function at the given value of t.\n",
    "        t: number\n",
    "        \"\"\"\n",
    "        self.series = self.series[self.series.index < t]\n"
   ]
  },
  {
   "cell_type": "code",
   "execution_count": null,
   "metadata": {},
   "outputs": [],
   "source": []
  },
  {
   "cell_type": "markdown",
   "metadata": {},
   "source": [
    "## **Introduction**"
   ]
  },
  {
   "cell_type": "markdown",
   "metadata": {},
   "source": [
    "In recent years, a downward trend in the Average Life Expectancy in the US has emerged. "
   ]
  },
  {
   "cell_type": "code",
   "execution_count": null,
   "metadata": {},
   "outputs": [],
   "source": [
    "plt.plot(recent.Year, recent['Average Life Expectancy (Years)'])\n",
    "plt.xlabel('Year')\n",
    "plt.ylabel('Average Life Expectancy (Years)')\n",
    "plt.title('Average Life Expectancy in US over Time');"
   ]
  },
  {
   "cell_type": "markdown",
   "metadata": {},
   "source": [
    "At the same time, the number of deaths by opioid poisoning have risen dramatically. In 1999, there were 6.0 opioid poisoning related deaths for every 100,000 people - by 2017, this had risen to 21.6 deaths per 100,000. What is known as the \"Opioid Epidemic\" or \"Opioid Crisis\" was declared a Public Health Emergency by the Trump Administration's Health and Human Services in 2017."
   ]
  },
  {
   "cell_type": "code",
   "execution_count": null,
   "metadata": {
    "scrolled": false
   },
   "outputs": [],
   "source": [
    "plt.plot(opioid_totals.Year, opioid_totals['Crude Rate'].astype('float64'))\n",
    "plt.xlabel('Year')\n",
    "plt.ylabel('Opioid Related Deaths (Per 100,000 people)')\n",
    "plt.title('Opioid Related Deaths in US over Time');"
   ]
  },
  {
   "cell_type": "markdown",
   "metadata": {},
   "source": [
    "Around 2015, at the same time we start noticing that the number of opioid overdose related deaths start dramatically increasing, the Average Life Expectancy starts to drop."
   ]
  },
  {
   "cell_type": "markdown",
   "metadata": {},
   "source": [
    "This prompted me to ask,\n",
    "\n",
    "_**What is the effect of the increased opioid-related deaths on the Average Life Expectancy in the US?**_"
   ]
  },
  {
   "cell_type": "markdown",
   "metadata": {},
   "source": [
    "## **Methodology**"
   ]
  },
  {
   "cell_type": "markdown",
   "metadata": {},
   "source": [
    "To answer this question, I will be attempting to predict what the Average Life Expectancy (ALE) in the US for various years would look like if there were no deaths related to opioid overdoses, and compare how much the actual ALEs differ from this theoretical, Zero-Opioid Scenario ALE."
   ]
  },
  {
   "cell_type": "markdown",
   "metadata": {},
   "source": [
    "### Data Sources"
   ]
  },
  {
   "cell_type": "markdown",
   "metadata": {},
   "source": [
    "I will be using the Centers for Disease Control and Prevention's (CDC) National Center for Health Statistics (NCHS) data for Death rates and life expectancy at birth for the US (Available at https://data.cdc.gov/NCHS/NCHS-Death-rates-and-life-expectancy-at-birth/w9j2-ggv5 ). All further mentions of life expectancies or ALE will relate to the CDC's definition of life expectancy at birth. The Average Life Expectancy is a summary statistic taking account the death rates of various age groups over various years, giving us a snapshot of the health of the population of the US at a point in time.\n",
    "\n",
    "I have included the life expectancies the CDC has released in recent years that were not included in the NCHS dataset. These can be found at the following links:\n",
    "\n",
    "Mortality in the United States, 2015: https://www.cdc.gov/nchs/products/databriefs/db267.htm\n",
    "\n",
    "Mortality in the United States, 2016: https://www.cdc.gov/nchs/products/databriefs/db293.htm\n",
    "\n",
    "Mortality in the United States, 2017: https://www.cdc.gov/nchs/products/databriefs/db328.htm"
   ]
  },
  {
   "cell_type": "markdown",
   "metadata": {},
   "source": [
    "I will also be using the CDC's Multiple Cause of Death Data for the years 1999-2017 (Available at https://wonder.cdc.gov/mcd.html ) to extract the population size and number of deaths in each age group in the US, as well as the total numbers of deaths due to opioid overdoses in each age group. \n",
    "\n",
    "To define deaths due to opioid overdoses, I used the CDC's definition of the ICD-10 codes that related to \"All opioid poisoning\" (the chart containing the codes fitting this definition is available at https://www.cdc.gov/drugoverdose/pdf/pdo_guide_to_icd-9-cm_and_icd-10_codes-a.pdf )"
   ]
  },
  {
   "cell_type": "markdown",
   "metadata": {},
   "source": [
    "In both datasets, populations were taken from the 2000 and 2010 Census data, and intercensal population estimates have been created for all other years."
   ]
  },
  {
   "cell_type": "markdown",
   "metadata": {},
   "source": [
    "### Data Description "
   ]
  },
  {
   "cell_type": "markdown",
   "metadata": {},
   "source": [
    "**NCHS Vitality Data**\n",
    "\n",
    "We are interested in looking at the ALE of the population as a whole for recent years, so we will take only the parts of the NCHS dataset that describe all people in the US from 1999-2017, also ensuring that this data is well aligned with the mortality data. This data is found in the `recent` DataFrame.\n",
    "\n",
    "This DataFrame also contains the year's Age-adjusted Death Rate (AADR). This is the death rate adjusted for changing age demographics so that death rates can be compared across years. They the Death Rates that you would expect to see if the population in a different year had the same age distribution as the Standard Population, the population you will be standardizing to. The NCHS uses the US 2000 Population for their Standard Population.\n",
    "\n",
    "**CDC Mortality Data**\n",
    "\n",
    "I have split the mortality data into two DataFrames, `mortality` and `mortality_totals`. The `mortality` DataFrame contains information about the total deaths in the US separated by age group and by year, and the population size of the age groups for each year. The `mortality_totals` DataFrame contains the total deaths in the year and the total US population in that year. \n",
    "\n",
    "Both of these DataFrames contain the corresponding Crude Death Rate (CDR) for that row, where CDR = Deaths ÷ Population.\n",
    "\n",
    "I have similarly treated the opioid-related deaths mortality data, separating it into `opioid` and `opioid_totals`. In the `opioid` DataFrame, there are cases where the Crude Rate is very small, so it is termed \"Unreliable\". I have replaced this crude rate with 0."
   ]
  },
  {
   "cell_type": "markdown",
   "metadata": {},
   "source": [
    "### Age-adjusted Death Rate Approach "
   ]
  },
  {
   "cell_type": "markdown",
   "metadata": {},
   "source": [
    "Recalculating the theoretical life expectancies by removing the effect of the opioid-related deaths to quantify how much of the drop in life expectancy is explained by the opioid-related deaths would be ideal, but it is a very complicated and involved calculation. \n",
    "\n",
    "Therefore, for simplifications, I will construct a model where I estimate the Average Life Expectancy for a year using the Age-adjusted Death Rate for the same year. The AADR for the total population is much more easily calculated, and the ALE and the AADR for any given year are closely related - both are summary statistics that are calculated with the age-specific death rates of the population.\n",
    "\n",
    "I will then be finding what the AADR for a year would look like in a Zero-Opioid Scenario (A theoretical scenario where any deaths related to opioid overdoses do not occur), and use the created model to estimate the theoretical ALE we would see without any opioid-related deaths."
   ]
  },
  {
   "cell_type": "markdown",
   "metadata": {},
   "source": [
    "Using the NCHS vitality statistics, I performed a linear regression to see how strong the correlation is between the two variables to check the goodness of fit for a linear function using a year's AADR to find the ALE. The coefficient of determination is .97, indicating that by knowing the AADR, we can get a good estimate of the ALE. We have an outlier in the year 2003, but it does not seem to to affect the fit of our model substantially. We will continue to use our model, keeping in mind that it has limitations."
   ]
  },
  {
   "cell_type": "code",
   "execution_count": null,
   "metadata": {},
   "outputs": [],
   "source": [
    "xs = recent['Age-adjusted Death Rate']\n",
    "ys = recent['Average Life Expectancy (Years)']\n",
    "\n",
    "res = linregress(xs, ys)\n",
    "\n",
    "fx = np.array([xs.min(), xs.max()])\n",
    "fy = res.intercept + res.slope * fx\n",
    "plt.plot(fx, fy, '-', alpha=0.5)\n",
    "\n",
    "\n",
    "plt.scatter(recent['Age-adjusted Death Rate'], recent['Average Life Expectancy (Years)']);\n",
    "plt.xlabel('Age-adjusted Death Rate')\n",
    "plt.ylabel('Average Life Expectancy (Years)')\n",
    "plt.title('Average Life Expectancy Vs. Age-adjusted Death Rate')\n",
    "\n",
    "print('R^2 =',res.rvalue**2)"
   ]
  },
  {
   "cell_type": "markdown",
   "metadata": {},
   "source": [
    "It's important to distinguish the Age-Adjusted Death Rate from the Crude Death Rate. As shown in the graph below, the CDRs in the CDC mortality data differ much from the AADRs provided in the NCHS dataset. "
   ]
  },
  {
   "cell_type": "code",
   "execution_count": null,
   "metadata": {},
   "outputs": [],
   "source": [
    "plt.plot(mortality_totals.Year, mortality_totals['Crude Rate'].astype('float64'), label='Crude Death Rate')\n",
    "plt.plot(recent.Year, recent['Age-adjusted Death Rate'], label='Age-adjusted Rate');\n",
    "\n",
    "plt.xlabel('Year')\n",
    "plt.ylabel('Death Rate (Per 100,000 people)')\n",
    "plt.title('Comparing CDR and AADR')\n",
    "plt.legend();"
   ]
  },
  {
   "cell_type": "markdown",
   "metadata": {},
   "source": [
    "Since we have the data for the total population and number of deaths for each year in the `mortality` and `mortality_totals` DataFrames, and the information for opioid-related deaths in the `opioid` and `opioid_totals` DataFrames, I can create two new DataFrames from which I will be able to calculate the theoretical AADR for the Zero-Opioid Scenario."
   ]
  },
  {
   "cell_type": "markdown",
   "metadata": {},
   "source": [
    "However, first I need to calculate the AADR for the mortality data I have to ensure it is as valid as the NCHS's AADRs to create a function for finding the ALE."
   ]
  },
  {
   "cell_type": "markdown",
   "metadata": {},
   "source": [
    "### Age-adjusted Death Rate Calculation"
   ]
  },
  {
   "cell_type": "markdown",
   "metadata": {},
   "source": [
    "To calculate the AADRs with our data, we need to identify a \"Standard Population\" with which to adjust the CDRs. Since the NCHS uses the year 2000 for the Standard Population for their AADRs, it's what I will be using."
   ]
  },
  {
   "cell_type": "markdown",
   "metadata": {},
   "source": [
    "Below is a function I will be using to find the Standard Proportion for a given age group. The Standard Proportion for an age group is the proportion of the population that were in that age group in the Standard Population's distribution. I will be using it to add a column for the Standard Proportion to the `mortality` DataFrame in order to use the column to later find the Age-Adjusted Death Rates."
   ]
  },
  {
   "cell_type": "code",
   "execution_count": null,
   "metadata": {},
   "outputs": [],
   "source": [
    "def age_group_pop_prop(row, year, df, df_totals):\n",
    "    \"\"\"    \n",
    "    Takes in a row from a DataFrame, the desired year for the Standard Population,\n",
    "    the DataFrame you would like to pull the total Standard Population from, and the \n",
    "    DataFrame that contains the Standard Population's proportions of deaths divided by \n",
    "    Ten-Year Age Groups Codes.\n",
    "    \n",
    "    Reads the Ten-Year Age Groups Code from the row, and returns the correct Standard Proportion.\n",
    "    \n",
    "    \"\"\"  \n",
    "    adjustment_mapping = {}\n",
    "    standard_pop = float(df_totals[(df_totals.Year == year)].Population)\n",
    "\n",
    "    for i, rows in df[df.Year == year].iterrows():\n",
    "        adjustment_mapping[rows['Ten-Year Age Groups Code']] = float(rows['Population'])/standard_pop\n",
    "    return adjustment_mapping.get(row['Ten-Year Age Groups Code'])\n",
    "\n",
    "# Create Standard Proportion Column\n",
    "mortality['Standard Proportion'] =  mortality.apply(lambda row: age_group_pop_prop(row, 2000, mortality, mortality_totals), axis=1)"
   ]
  },
  {
   "cell_type": "markdown",
   "metadata": {},
   "source": [
    "I will be using the formula for Age-Adjusted Death Rate provided by the Missouri Department of Health and Senior Services (https://health.mo.gov/data/mica/CDP_MICA/AARate.html ), \n",
    "\n",
    "AADR = Summation of (ASDR X standard proportion) \n",
    "  \n",
    "Where ASDR (Age-Specific Death Rate) = deaths in age group ÷ estimated population of that age group × 100,000, equivalent to the information held in the `Crude Rate` columns in the `mortality` DataFrame.\n",
    "\n",
    "I will multiply the `Crude Rate` and the `Standard Proportion` columns in order to find the amount of each Crude Rate to sum for the year's Age-Adjusted Death Rate."
   ]
  },
  {
   "cell_type": "code",
   "execution_count": null,
   "metadata": {},
   "outputs": [],
   "source": [
    "mortality['CR*SP'] =  mortality['Crude Rate'].astype('float64')*mortality['Standard Proportion']"
   ]
  },
  {
   "cell_type": "markdown",
   "metadata": {},
   "source": [
    "I will now add sum the values for each year's Age-Adjusted Death Rate, and add it as a column to `mortality_totals`. "
   ]
  },
  {
   "cell_type": "code",
   "execution_count": null,
   "metadata": {},
   "outputs": [],
   "source": [
    "def calculate_AADR(row, df):\n",
    "    \"\"\"\n",
    "    Takes in an input row from a DataFrame of totals.\n",
    "    Returns the Age-Adjusted Death Rate.\n",
    "    \"\"\"\n",
    "    year = row.Year\n",
    "    AADR = df[df.Year == year]['CR*SP'].sum()\n",
    "    \n",
    "    return AADR\n",
    "    \n",
    "# Create AADR Column      \n",
    "mortality_totals['Age-adjusted Death Rate'] = mortality_totals.apply(lambda row: calculate_AADR(row, mortality), axis=1)    "
   ]
  },
  {
   "cell_type": "markdown",
   "metadata": {},
   "source": [
    "My calculated Age Adjusted Death Rates closely match the trend of those in the NCHS dataset, but are offset by about 20 people per 100,000. Although I am unsure as to why the difference exists (I speculate it may be due to slight differences in the population estimates or calculation), since the trend of both lines is almost identical, so this shift in the intercept will not greatly affect the linear regression calculation."
   ]
  },
  {
   "cell_type": "code",
   "execution_count": null,
   "metadata": {},
   "outputs": [],
   "source": [
    "plt.plot(mortality_totals.Year, mortality_totals['Age-adjusted Death Rate'], label = 'Calculated AADR')\n",
    "plt.plot(recent.Year, recent['Age-adjusted Death Rate'], label = 'NCHS AADR');\n",
    "\n",
    "plt.xlabel('Year')\n",
    "plt.ylabel('Age-Adjusted Death Rate (Per 100,000 people)');\n",
    "plt.title('NCHS ADDR Compared to the Calculated AADR')\n",
    "plt.legend();"
   ]
  },
  {
   "cell_type": "markdown",
   "metadata": {},
   "source": [
    "I again performed a linear regression plotting ALE vs. AADR, this time using my AADR calculations to ensure they are as valid as the NCHS's AADRs to create a function that will estimate the Average Life Expectancy. \n",
    "\n",
    "The coefficient of determination is again .97. This validates that I can achieve a very close estimation of what the ALE would look like if I use a recalculated AADR."
   ]
  },
  {
   "cell_type": "code",
   "execution_count": null,
   "metadata": {},
   "outputs": [],
   "source": [
    "xs = mortality_totals['Age-adjusted Death Rate']\n",
    "ys = recent['Average Life Expectancy (Years)']\n",
    "\n",
    "res = linregress(xs, ys)\n",
    "\n",
    "fx = np.array([xs.min(), xs.max()])\n",
    "fy = res.intercept + res.slope * fx\n",
    "plt.plot(fx, fy, '-', alpha=0.5)\n",
    "\n",
    "\n",
    "\n",
    "plt.scatter(mortality_totals['Age-adjusted Death Rate'], recent['Average Life Expectancy (Years)']);\n",
    "plt.xlabel('Age-adjusted Death Rate')\n",
    "plt.ylabel('Average Life Expectancy (Years)')\n",
    "plt.title('Average Life Expectancy Vs. Calculated AADR')\n",
    "print('R^2 =',res.rvalue**2)"
   ]
  },
  {
   "cell_type": "markdown",
   "metadata": {},
   "source": [
    "### Age-adjusted Death Rate Calculation for Zero-Opioid Scenario "
   ]
  },
  {
   "cell_type": "markdown",
   "metadata": {},
   "source": [
    "To find the AADRs for the Zero-Opioid Scenario, I will add back the deaths counted in the `opioid` DataFrame to the `mortality` deaths in a new DataFrame, and use same calculations as before. Then we will be able to convert this information into theoretical ALEs."
   ]
  },
  {
   "cell_type": "markdown",
   "metadata": {},
   "source": [
    "I will make a copy of `mortality` and `mortality_totals`, and alter them to not include the deaths related to opioid overdoses to create `mortality_zero_opioid` and `mortality_zero_opioid_totals`."
   ]
  },
  {
   "cell_type": "code",
   "execution_count": null,
   "metadata": {},
   "outputs": [],
   "source": [
    "mortality_zero_opioid = mortality.copy().drop(['Standard Proportion','CR*SP'], axis=1)\n",
    "mortality_zero_opioid_totals = mortality_totals.copy().drop(['Age-adjusted Death Rate'], axis=1)\n",
    "\n",
    "#Remove the deaths related to opioid overdoses\n",
    "mortality_zero_opioid.Deaths = mortality_zero_opioid.Deaths - opioid.Deaths\n",
    "mortality_zero_opioid_totals.Deaths = mortality_zero_opioid_totals.Deaths - opioid_totals.Deaths\n",
    "\n",
    "\n",
    "#Remove the deaths contributing to the crude rate\n",
    "mortality_zero_opioid['Crude Rate'] = mortality_zero_opioid['Crude Rate'].astype('Float64')-opioid['Crude Rate'].astype('Float64')\n",
    "mortality_zero_opioid_totals['Crude Rate'] = mortality_zero_opioid_totals['Crude Rate'].astype('Float64')-opioid_totals['Crude Rate'].astype('Float64')\n",
    "\n"
   ]
  },
  {
   "cell_type": "markdown",
   "metadata": {},
   "source": [
    "We will perform the same process as before to find the new Age-adjusted Death Rates."
   ]
  },
  {
   "cell_type": "code",
   "execution_count": null,
   "metadata": {},
   "outputs": [],
   "source": [
    "#Creating Standard Proportion Column and the (Crude Rate * Standard Prop) column\n",
    "mortality_zero_opioid['Standard Proportion'] =  mortality_zero_opioid.apply(lambda row: age_group_pop_prop(row, 2000, mortality_zero_opioid, mortality_zero_opioid_totals), axis=1)\n",
    "mortality_zero_opioid['CR*SP'] =  mortality_zero_opioid['Crude Rate'].astype('float64')*mortality_zero_opioid['Standard Proportion']\n",
    "\n",
    "#Finding the AADRs for the adjusted dataset\n",
    "mortality_zero_opioid_totals['Age-adjusted Death Rate'] = mortality_zero_opioid_totals.apply(lambda row: calculate_AADR(row, mortality_zero_opioid), axis=1)    "
   ]
  },
  {
   "cell_type": "markdown",
   "metadata": {},
   "source": [
    "### Average Life Expectancy Calculations and Validation"
   ]
  },
  {
   "cell_type": "markdown",
   "metadata": {},
   "source": [
    "I will now transfer this information into terms of life expectancies. I will use the linear regression model I created to fit the data to estimate life expectancy using the true calculated AADRs and the Zero-Opioid Scenario AADRs."
   ]
  },
  {
   "cell_type": "code",
   "execution_count": null,
   "metadata": {},
   "outputs": [],
   "source": [
    "life_expect = recent[['Year','Average Life Expectancy (Years)']].join(mortality_totals['Age-adjusted Death Rate']).join(mortality_zero_opioid_totals['Age-adjusted Death Rate'], rsuffix=' -Opioid')\n",
    "\n",
    "#Column with the model life expectancy\n",
    "life_expect['ALE Expected by AADR'] = life_expect['Age-adjusted Death Rate']*res.slope + res.intercept\n",
    "\n",
    "#Column with the difference between the true ALE and my calculated ALE\n",
    "life_expect['Residuals'] = life_expect['Average Life Expectancy (Years)'] - life_expect['ALE Expected by AADR']\n",
    "\n",
    "#Column with the life expectancy we would expect to see if there were no opioid-related deaths\n",
    "life_expect['ALE Expected by Zero-Opioid AADR'] = life_expect['Age-adjusted Death Rate -Opioid']*res.slope + res.intercept\n",
    "\n",
    "#Column with the theoretical loss in ALE from theoretical zero-opioid scenario\n",
    "life_expect['Theoretical Loss in ALE'] = life_expect['Average Life Expectancy (Years)'] - life_expect['ALE Expected by Zero-Opioid AADR']"
   ]
  },
  {
   "cell_type": "markdown",
   "metadata": {},
   "source": [
    "Graphed below are both the ALEs reported by the NCHS and the ones calculated using my regression model. This graph is another validation of my model, as it traces the true ALE very closely.\n",
    "\n",
    "Excluding the year 2003, my function for finding the Average Life Expectancy from the AADR produces a result accurate to within .15 years of the true ALE, so it is a decently good estimator of the life expectancy we would expect to see if there were no contributing opioid-related deaths. "
   ]
  },
  {
   "cell_type": "code",
   "execution_count": null,
   "metadata": {},
   "outputs": [],
   "source": [
    "plt.plot(life_expect.Year, life_expect['Average Life Expectancy (Years)'], label='NCHS True ALE')\n",
    "plt.plot(life_expect.Year, life_expect['ALE Expected by AADR'], label='ALE Expected by AADR')\n",
    "\n",
    "plt.xlabel('Year')\n",
    "plt.ylabel('Average Life Expectancy (Years)')\n",
    "plt.title('True ALE Compared to ALE Expected from Model')\n",
    "plt.legend();"
   ]
  },
  {
   "cell_type": "markdown",
   "metadata": {},
   "source": [
    "## **Results**"
   ]
  },
  {
   "cell_type": "markdown",
   "metadata": {},
   "source": [
    "Below is the same graph produced above, overlaid with the Zero-Opioid Scenario ALE. In the earlier years, the ALE for a Zero-Opioid Scenario differs very little from the actual ALE. However, in the most recent years, the gap between the two is wider than it has ever been. "
   ]
  },
  {
   "cell_type": "code",
   "execution_count": null,
   "metadata": {},
   "outputs": [],
   "source": [
    "plt.plot(life_expect.Year, life_expect['Average Life Expectancy (Years)'], label='NCHS True ALE')\n",
    "plt.plot(life_expect.Year, life_expect['ALE Expected by AADR'], label='ALE Expected by AADR')\n",
    "plt.plot(life_expect.Year, life_expect['ALE Expected by Zero-Opioid AADR'], label='ALE Expected by Zero-Opioid AADR', color='green')\n",
    "\n",
    "plt.xlabel('Year')\n",
    "plt.ylabel('Average Life Expectancy (Years)')\n",
    "plt.title('Overlay of True ALE and Calculated ALE\\'s')\n",
    "plt.legend();"
   ]
  },
  {
   "cell_type": "markdown",
   "metadata": {},
   "source": [
    "In the graph, we can see in the year 2003 the ALE we would expect to see if there had been no opioid-related deaths according to our model is lower than the actual ALE, which is a senseless result. The linear regression that created the model had an outlier in the year 2003, so it explains why our model does not work well in this result."
   ]
  },
  {
   "cell_type": "markdown",
   "metadata": {},
   "source": [
    "## **Conclusion**"
   ]
  },
  {
   "cell_type": "markdown",
   "metadata": {},
   "source": [
    "So, _**what is the effect of the increased opioid-related deaths on the Average Life Expectancy in the US?**_"
   ]
  },
  {
   "cell_type": "markdown",
   "metadata": {},
   "source": [
    "According to the model, I would expect that the ALE in 2017 would have been about .46 years higher if there had been no opioid-related deaths (79.06 years, compared to the observed 78.6 years). Similarly, in 2016 the ALE would have been .37 years higher in a Zero-Opioid Scenario (79.07 years compared to the observed 78.7).\n",
    "\n",
    "It is only recently that these deaths have created an observable effect this large. In 1999, the difference between the Zero-Opioid ALE and the observed ALE was .16 years (76.86 years compared to the actual 76.7).\n",
    "\n",
    "The Average Life Expectancy is a very robust summary statistic that takes information about the overall health of a country to produce one number. The increased number of opioid overdoses taking lives prematurely has more than ever negatively impacted the years of life a newborn would be expected to live.\n"
   ]
  }
 ],
 "metadata": {
  "kernelspec": {
   "display_name": "Python 3",
   "language": "python",
   "name": "python3"
  },
  "language_info": {
   "codemirror_mode": {
    "name": "ipython",
    "version": 3
   },
   "file_extension": ".py",
   "mimetype": "text/x-python",
   "name": "python",
   "nbconvert_exporter": "python",
   "pygments_lexer": "ipython3",
   "version": "3.6.5"
  }
 },
 "nbformat": 4,
 "nbformat_minor": 2
}
